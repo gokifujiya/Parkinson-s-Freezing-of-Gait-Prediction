{
 "cells": [
  {
   "cell_type": "markdown",
   "id": "46d40bdd",
   "metadata": {
    "papermill": {
     "duration": 0.019614,
     "end_time": "2023-05-03T03:15:41.562672",
     "exception": false,
     "start_time": "2023-05-03T03:15:41.543058",
     "status": "completed"
    },
    "tags": []
   },
   "source": [
    "# Introduction\n",
    "\n",
    "The goal of this competition is to **detect freezing of gait (FOG)**, a debilitating symptom that afflicts many people **with Parkinson’s disease**. It is requred to **develop a machine learning model trained on data collected from a wearable 3D lower back sensor** to better understand **when and why FOG episodes occur**."
   ]
  },
  {
   "cell_type": "markdown",
   "id": "3c3c7345",
   "metadata": {
    "papermill": {
     "duration": 0.017722,
     "end_time": "2023-05-03T03:15:41.601086",
     "exception": false,
     "start_time": "2023-05-03T03:15:41.583364",
     "status": "completed"
    },
    "tags": []
   },
   "source": [
    "# Import Libraries"
   ]
  },
  {
   "cell_type": "code",
   "execution_count": 1,
   "id": "fb95516b",
   "metadata": {
    "execution": {
     "iopub.execute_input": "2023-05-03T03:15:41.640705Z",
     "iopub.status.busy": "2023-05-03T03:15:41.639630Z",
     "iopub.status.idle": "2023-05-03T03:15:42.937688Z",
     "shell.execute_reply": "2023-05-03T03:15:42.936267Z"
    },
    "papermill": {
     "duration": 1.321847,
     "end_time": "2023-05-03T03:15:42.940889",
     "exception": false,
     "start_time": "2023-05-03T03:15:41.619042",
     "status": "completed"
    },
    "tags": []
   },
   "outputs": [],
   "source": [
    "import numpy as np\n",
    "import pandas as pd\n",
    "import matplotlib.pyplot as plt\n",
    "import seaborn as sns\n",
    "import os"
   ]
  },
  {
   "cell_type": "markdown",
   "id": "6f31e2be",
   "metadata": {
    "papermill": {
     "duration": 0.017662,
     "end_time": "2023-05-03T03:15:42.976169",
     "exception": false,
     "start_time": "2023-05-03T03:15:42.958507",
     "status": "completed"
    },
    "tags": []
   },
   "source": [
    "# Read CSV Files\n",
    "\n",
    "The train dataset is made up of the defog, notype, and tdcsfog folders. **The tdcsfog folder includes** more than 800 csv files and accounts for **the majority of the information contained in the whole dataset for this competition**. Moreover, csv files in the edcsfog folder include annotation: StartHesitation, Turn, and Walking."
   ]
  },
  {
   "cell_type": "code",
   "execution_count": 2,
   "id": "e790637d",
   "metadata": {
    "execution": {
     "iopub.execute_input": "2023-05-03T03:15:43.016780Z",
     "iopub.status.busy": "2023-05-03T03:15:43.016368Z",
     "iopub.status.idle": "2023-05-03T03:15:43.078651Z",
     "shell.execute_reply": "2023-05-03T03:15:43.076939Z"
    },
    "papermill": {
     "duration": 0.085496,
     "end_time": "2023-05-03T03:15:43.081955",
     "exception": false,
     "start_time": "2023-05-03T03:15:42.996459",
     "status": "completed"
    },
    "tags": []
   },
   "outputs": [
    {
     "data": {
      "text/html": [
       "<div>\n",
       "<style scoped>\n",
       "    .dataframe tbody tr th:only-of-type {\n",
       "        vertical-align: middle;\n",
       "    }\n",
       "\n",
       "    .dataframe tbody tr th {\n",
       "        vertical-align: top;\n",
       "    }\n",
       "\n",
       "    .dataframe thead th {\n",
       "        text-align: right;\n",
       "    }\n",
       "</style>\n",
       "<table border=\"1\" class=\"dataframe\">\n",
       "  <thead>\n",
       "    <tr style=\"text-align: right;\">\n",
       "      <th></th>\n",
       "      <th>Time</th>\n",
       "      <th>AccV</th>\n",
       "      <th>AccML</th>\n",
       "      <th>AccAP</th>\n",
       "      <th>StartHesitation</th>\n",
       "      <th>Turn</th>\n",
       "      <th>Walking</th>\n",
       "    </tr>\n",
       "  </thead>\n",
       "  <tbody>\n",
       "    <tr>\n",
       "      <th>0</th>\n",
       "      <td>0</td>\n",
       "      <td>-9.533939</td>\n",
       "      <td>0.566322</td>\n",
       "      <td>-1.413525</td>\n",
       "      <td>0</td>\n",
       "      <td>0</td>\n",
       "      <td>0</td>\n",
       "    </tr>\n",
       "    <tr>\n",
       "      <th>1</th>\n",
       "      <td>1</td>\n",
       "      <td>-9.536140</td>\n",
       "      <td>0.564137</td>\n",
       "      <td>-1.440621</td>\n",
       "      <td>0</td>\n",
       "      <td>0</td>\n",
       "      <td>0</td>\n",
       "    </tr>\n",
       "    <tr>\n",
       "      <th>2</th>\n",
       "      <td>2</td>\n",
       "      <td>-9.529345</td>\n",
       "      <td>0.561765</td>\n",
       "      <td>-1.429332</td>\n",
       "      <td>0</td>\n",
       "      <td>0</td>\n",
       "      <td>0</td>\n",
       "    </tr>\n",
       "    <tr>\n",
       "      <th>3</th>\n",
       "      <td>3</td>\n",
       "      <td>-9.531239</td>\n",
       "      <td>0.564227</td>\n",
       "      <td>-1.415490</td>\n",
       "      <td>0</td>\n",
       "      <td>0</td>\n",
       "      <td>0</td>\n",
       "    </tr>\n",
       "    <tr>\n",
       "      <th>4</th>\n",
       "      <td>4</td>\n",
       "      <td>-9.540825</td>\n",
       "      <td>0.561854</td>\n",
       "      <td>-1.429471</td>\n",
       "      <td>0</td>\n",
       "      <td>0</td>\n",
       "      <td>0</td>\n",
       "    </tr>\n",
       "  </tbody>\n",
       "</table>\n",
       "</div>"
      ],
      "text/plain": [
       "   Time      AccV     AccML     AccAP  StartHesitation  Turn  Walking\n",
       "0     0 -9.533939  0.566322 -1.413525                0     0        0\n",
       "1     1 -9.536140  0.564137 -1.440621                0     0        0\n",
       "2     2 -9.529345  0.561765 -1.429332                0     0        0\n",
       "3     3 -9.531239  0.564227 -1.415490                0     0        0\n",
       "4     4 -9.540825  0.561854 -1.429471                0     0        0"
      ]
     },
     "execution_count": 2,
     "metadata": {},
     "output_type": "execute_result"
    }
   ],
   "source": [
    "# one tdcsfog file\n",
    "tdcsfog_003f117e14 = pd.read_csv('/kaggle/input/tlvmc-parkinsons-freezing-gait-prediction/train/tdcsfog/003f117e14.csv')\n",
    "tdcsfog_003f117e14.head(5)"
   ]
  },
  {
   "cell_type": "code",
   "execution_count": 3,
   "id": "44aa985c",
   "metadata": {
    "execution": {
     "iopub.execute_input": "2023-05-03T03:15:43.119567Z",
     "iopub.status.busy": "2023-05-03T03:15:43.119182Z",
     "iopub.status.idle": "2023-05-03T03:15:43.133258Z",
     "shell.execute_reply": "2023-05-03T03:15:43.131910Z"
    },
    "papermill": {
     "duration": 0.036266,
     "end_time": "2023-05-03T03:15:43.136063",
     "exception": false,
     "start_time": "2023-05-03T03:15:43.099797",
     "status": "completed"
    },
    "tags": []
   },
   "outputs": [
    {
     "data": {
      "text/html": [
       "<div>\n",
       "<style scoped>\n",
       "    .dataframe tbody tr th:only-of-type {\n",
       "        vertical-align: middle;\n",
       "    }\n",
       "\n",
       "    .dataframe tbody tr th {\n",
       "        vertical-align: top;\n",
       "    }\n",
       "\n",
       "    .dataframe thead th {\n",
       "        text-align: right;\n",
       "    }\n",
       "</style>\n",
       "<table border=\"1\" class=\"dataframe\">\n",
       "  <thead>\n",
       "    <tr style=\"text-align: right;\">\n",
       "      <th></th>\n",
       "      <th>Time</th>\n",
       "      <th>AccV</th>\n",
       "      <th>AccML</th>\n",
       "      <th>AccAP</th>\n",
       "      <th>StartHesitation</th>\n",
       "      <th>Turn</th>\n",
       "      <th>Walking</th>\n",
       "    </tr>\n",
       "  </thead>\n",
       "  <tbody>\n",
       "    <tr>\n",
       "      <th>4677</th>\n",
       "      <td>4677</td>\n",
       "      <td>-9.351431</td>\n",
       "      <td>0.370047</td>\n",
       "      <td>-2.286318</td>\n",
       "      <td>0</td>\n",
       "      <td>0</td>\n",
       "      <td>0</td>\n",
       "    </tr>\n",
       "    <tr>\n",
       "      <th>4678</th>\n",
       "      <td>4678</td>\n",
       "      <td>-9.341410</td>\n",
       "      <td>0.347721</td>\n",
       "      <td>-2.321991</td>\n",
       "      <td>0</td>\n",
       "      <td>0</td>\n",
       "      <td>0</td>\n",
       "    </tr>\n",
       "    <tr>\n",
       "      <th>4679</th>\n",
       "      <td>4679</td>\n",
       "      <td>-9.350667</td>\n",
       "      <td>0.361341</td>\n",
       "      <td>-2.297158</td>\n",
       "      <td>0</td>\n",
       "      <td>0</td>\n",
       "      <td>0</td>\n",
       "    </tr>\n",
       "    <tr>\n",
       "      <th>4680</th>\n",
       "      <td>4680</td>\n",
       "      <td>-9.343977</td>\n",
       "      <td>0.365726</td>\n",
       "      <td>-2.292650</td>\n",
       "      <td>0</td>\n",
       "      <td>0</td>\n",
       "      <td>0</td>\n",
       "    </tr>\n",
       "    <tr>\n",
       "      <th>4681</th>\n",
       "      <td>4681</td>\n",
       "      <td>-9.348477</td>\n",
       "      <td>0.379439</td>\n",
       "      <td>-2.335422</td>\n",
       "      <td>0</td>\n",
       "      <td>0</td>\n",
       "      <td>0</td>\n",
       "    </tr>\n",
       "  </tbody>\n",
       "</table>\n",
       "</div>"
      ],
      "text/plain": [
       "      Time      AccV     AccML     AccAP  StartHesitation  Turn  Walking\n",
       "4677  4677 -9.351431  0.370047 -2.286318                0     0        0\n",
       "4678  4678 -9.341410  0.347721 -2.321991                0     0        0\n",
       "4679  4679 -9.350667  0.361341 -2.297158                0     0        0\n",
       "4680  4680 -9.343977  0.365726 -2.292650                0     0        0\n",
       "4681  4681 -9.348477  0.379439 -2.335422                0     0        0"
      ]
     },
     "execution_count": 3,
     "metadata": {},
     "output_type": "execute_result"
    }
   ],
   "source": [
    "tdcsfog_003f117e14.tail(5)"
   ]
  },
  {
   "cell_type": "markdown",
   "id": "80b09834",
   "metadata": {
    "papermill": {
     "duration": 0.01781,
     "end_time": "2023-05-03T03:15:43.172578",
     "exception": false,
     "start_time": "2023-05-03T03:15:43.154768",
     "status": "completed"
    },
    "tags": []
   },
   "source": [
    "This looks like a table of motion sensor data, possibly from a wearable device, with each row representing a particular moment in time (as indicated by the \"Time\" column) and containing measurements of acceleration in three dimensions (**\"AccV\", \"AccML\", \"AccAP\"**). **The values in these columns indicate the acceleration of the device along the vertical, medial-lateral, and anterior-posterior axes, respectively.**\n",
    "\n",
    "**The \"StartHesitation\", \"Turn\", and \"Walking\" columns appear to be binary variables indicating whether or not the corresponding activity is taking place at a given moment in time.** However, in this table, all values in these columns are 0, so it is not possible to predict the status of these variables based on the data in this table alone."
   ]
  },
  {
   "cell_type": "code",
   "execution_count": 4,
   "id": "a9e2a691",
   "metadata": {
    "execution": {
     "iopub.execute_input": "2023-05-03T03:15:43.211169Z",
     "iopub.status.busy": "2023-05-03T03:15:43.210743Z",
     "iopub.status.idle": "2023-05-03T03:15:43.260209Z",
     "shell.execute_reply": "2023-05-03T03:15:43.258909Z"
    },
    "papermill": {
     "duration": 0.07189,
     "end_time": "2023-05-03T03:15:43.262889",
     "exception": false,
     "start_time": "2023-05-03T03:15:43.190999",
     "status": "completed"
    },
    "tags": []
   },
   "outputs": [
    {
     "data": {
      "text/html": [
       "<div>\n",
       "<style scoped>\n",
       "    .dataframe tbody tr th:only-of-type {\n",
       "        vertical-align: middle;\n",
       "    }\n",
       "\n",
       "    .dataframe tbody tr th {\n",
       "        vertical-align: top;\n",
       "    }\n",
       "\n",
       "    .dataframe thead th {\n",
       "        text-align: right;\n",
       "    }\n",
       "</style>\n",
       "<table border=\"1\" class=\"dataframe\">\n",
       "  <thead>\n",
       "    <tr style=\"text-align: right;\">\n",
       "      <th></th>\n",
       "      <th>Time</th>\n",
       "      <th>AccV</th>\n",
       "      <th>AccML</th>\n",
       "      <th>AccAP</th>\n",
       "      <th>StartHesitation</th>\n",
       "      <th>Turn</th>\n",
       "      <th>Walking</th>\n",
       "    </tr>\n",
       "  </thead>\n",
       "  <tbody>\n",
       "    <tr>\n",
       "      <th>count</th>\n",
       "      <td>4682.00000</td>\n",
       "      <td>4682.000000</td>\n",
       "      <td>4682.000000</td>\n",
       "      <td>4682.000000</td>\n",
       "      <td>4682.0</td>\n",
       "      <td>4682.000000</td>\n",
       "      <td>4682.0</td>\n",
       "    </tr>\n",
       "    <tr>\n",
       "      <th>mean</th>\n",
       "      <td>2340.50000</td>\n",
       "      <td>-9.151214</td>\n",
       "      <td>0.753518</td>\n",
       "      <td>2.471637</td>\n",
       "      <td>0.0</td>\n",
       "      <td>0.168304</td>\n",
       "      <td>0.0</td>\n",
       "    </tr>\n",
       "    <tr>\n",
       "      <th>std</th>\n",
       "      <td>1351.72131</td>\n",
       "      <td>1.384390</td>\n",
       "      <td>1.102125</td>\n",
       "      <td>2.239906</td>\n",
       "      <td>0.0</td>\n",
       "      <td>0.374176</td>\n",
       "      <td>0.0</td>\n",
       "    </tr>\n",
       "    <tr>\n",
       "      <th>min</th>\n",
       "      <td>0.00000</td>\n",
       "      <td>-23.796051</td>\n",
       "      <td>-9.097370</td>\n",
       "      <td>-7.353417</td>\n",
       "      <td>0.0</td>\n",
       "      <td>0.000000</td>\n",
       "      <td>0.0</td>\n",
       "    </tr>\n",
       "    <tr>\n",
       "      <th>25%</th>\n",
       "      <td>1170.25000</td>\n",
       "      <td>-9.537719</td>\n",
       "      <td>0.322877</td>\n",
       "      <td>1.966646</td>\n",
       "      <td>0.0</td>\n",
       "      <td>0.000000</td>\n",
       "      <td>0.0</td>\n",
       "    </tr>\n",
       "    <tr>\n",
       "      <th>50%</th>\n",
       "      <td>2340.50000</td>\n",
       "      <td>-9.234702</td>\n",
       "      <td>0.580891</td>\n",
       "      <td>3.137857</td>\n",
       "      <td>0.0</td>\n",
       "      <td>0.000000</td>\n",
       "      <td>0.0</td>\n",
       "    </tr>\n",
       "    <tr>\n",
       "      <th>75%</th>\n",
       "      <td>3510.75000</td>\n",
       "      <td>-8.470460</td>\n",
       "      <td>1.368355</td>\n",
       "      <td>3.819931</td>\n",
       "      <td>0.0</td>\n",
       "      <td>0.000000</td>\n",
       "      <td>0.0</td>\n",
       "    </tr>\n",
       "    <tr>\n",
       "      <th>max</th>\n",
       "      <td>4681.00000</td>\n",
       "      <td>-3.915590</td>\n",
       "      <td>5.996704</td>\n",
       "      <td>10.281080</td>\n",
       "      <td>0.0</td>\n",
       "      <td>1.000000</td>\n",
       "      <td>0.0</td>\n",
       "    </tr>\n",
       "  </tbody>\n",
       "</table>\n",
       "</div>"
      ],
      "text/plain": [
       "             Time         AccV        AccML        AccAP  StartHesitation  \\\n",
       "count  4682.00000  4682.000000  4682.000000  4682.000000           4682.0   \n",
       "mean   2340.50000    -9.151214     0.753518     2.471637              0.0   \n",
       "std    1351.72131     1.384390     1.102125     2.239906              0.0   \n",
       "min       0.00000   -23.796051    -9.097370    -7.353417              0.0   \n",
       "25%    1170.25000    -9.537719     0.322877     1.966646              0.0   \n",
       "50%    2340.50000    -9.234702     0.580891     3.137857              0.0   \n",
       "75%    3510.75000    -8.470460     1.368355     3.819931              0.0   \n",
       "max    4681.00000    -3.915590     5.996704    10.281080              0.0   \n",
       "\n",
       "              Turn  Walking  \n",
       "count  4682.000000   4682.0  \n",
       "mean      0.168304      0.0  \n",
       "std       0.374176      0.0  \n",
       "min       0.000000      0.0  \n",
       "25%       0.000000      0.0  \n",
       "50%       0.000000      0.0  \n",
       "75%       0.000000      0.0  \n",
       "max       1.000000      0.0  "
      ]
     },
     "execution_count": 4,
     "metadata": {},
     "output_type": "execute_result"
    }
   ],
   "source": [
    "tdcsfog_003f117e14.describe()"
   ]
  },
  {
   "cell_type": "markdown",
   "id": "4286db8f",
   "metadata": {
    "papermill": {
     "duration": 0.018846,
     "end_time": "2023-05-03T03:15:43.300741",
     "exception": false,
     "start_time": "2023-05-03T03:15:43.281895",
     "status": "completed"
    },
    "tags": []
   },
   "source": [
    "The \"mean\", \"std\", \"min\", \"25%\", \"50%\", \"75%\", and \"max\" values for each variable provide information about the distribution and range of the data. For example, the mean value for \"AccV\" is -9.15, indicating that the device was tilted slightly downwards on average. The standard deviation of 1.38 for \"AccV\" suggests that the device orientation varied quite a bit over time. The maximum and minimum values for each variable provide an idea of the range of motion that was captured by the sensor over the course of the data collection period.\n",
    "\n",
    "Here, **only Turn has the max value of 1**. Thus, **only a turn event occurred** in this experiment."
   ]
  },
  {
   "cell_type": "code",
   "execution_count": 5,
   "id": "79e31486",
   "metadata": {
    "execution": {
     "iopub.execute_input": "2023-05-03T03:15:43.346880Z",
     "iopub.status.busy": "2023-05-03T03:15:43.346351Z",
     "iopub.status.idle": "2023-05-03T03:15:43.378568Z",
     "shell.execute_reply": "2023-05-03T03:15:43.377289Z"
    },
    "papermill": {
     "duration": 0.058007,
     "end_time": "2023-05-03T03:15:43.381756",
     "exception": false,
     "start_time": "2023-05-03T03:15:43.323749",
     "status": "completed"
    },
    "tags": []
   },
   "outputs": [
    {
     "data": {
      "text/html": [
       "<div>\n",
       "<style scoped>\n",
       "    .dataframe tbody tr th:only-of-type {\n",
       "        vertical-align: middle;\n",
       "    }\n",
       "\n",
       "    .dataframe tbody tr th {\n",
       "        vertical-align: top;\n",
       "    }\n",
       "\n",
       "    .dataframe thead th {\n",
       "        text-align: right;\n",
       "    }\n",
       "</style>\n",
       "<table border=\"1\" class=\"dataframe\">\n",
       "  <thead>\n",
       "    <tr style=\"text-align: right;\">\n",
       "      <th></th>\n",
       "      <th>Time</th>\n",
       "      <th>AccV</th>\n",
       "      <th>AccML</th>\n",
       "      <th>AccAP</th>\n",
       "      <th>StartHesitation</th>\n",
       "      <th>Turn</th>\n",
       "      <th>Walking</th>\n",
       "    </tr>\n",
       "  </thead>\n",
       "  <tbody>\n",
       "    <tr>\n",
       "      <th>1103</th>\n",
       "      <td>1103</td>\n",
       "      <td>-9.395300</td>\n",
       "      <td>2.358647</td>\n",
       "      <td>2.928994</td>\n",
       "      <td>0</td>\n",
       "      <td>1</td>\n",
       "      <td>0</td>\n",
       "    </tr>\n",
       "    <tr>\n",
       "      <th>1104</th>\n",
       "      <td>1104</td>\n",
       "      <td>-9.166603</td>\n",
       "      <td>2.287368</td>\n",
       "      <td>2.894901</td>\n",
       "      <td>0</td>\n",
       "      <td>1</td>\n",
       "      <td>0</td>\n",
       "    </tr>\n",
       "    <tr>\n",
       "      <th>1105</th>\n",
       "      <td>1105</td>\n",
       "      <td>-9.181004</td>\n",
       "      <td>2.209043</td>\n",
       "      <td>2.736913</td>\n",
       "      <td>0</td>\n",
       "      <td>1</td>\n",
       "      <td>0</td>\n",
       "    </tr>\n",
       "    <tr>\n",
       "      <th>1106</th>\n",
       "      <td>1106</td>\n",
       "      <td>-9.206637</td>\n",
       "      <td>2.146686</td>\n",
       "      <td>2.741799</td>\n",
       "      <td>0</td>\n",
       "      <td>1</td>\n",
       "      <td>0</td>\n",
       "    </tr>\n",
       "    <tr>\n",
       "      <th>1107</th>\n",
       "      <td>1107</td>\n",
       "      <td>-9.180733</td>\n",
       "      <td>2.076467</td>\n",
       "      <td>2.802830</td>\n",
       "      <td>0</td>\n",
       "      <td>1</td>\n",
       "      <td>0</td>\n",
       "    </tr>\n",
       "    <tr>\n",
       "      <th>...</th>\n",
       "      <td>...</td>\n",
       "      <td>...</td>\n",
       "      <td>...</td>\n",
       "      <td>...</td>\n",
       "      <td>...</td>\n",
       "      <td>...</td>\n",
       "      <td>...</td>\n",
       "    </tr>\n",
       "    <tr>\n",
       "      <th>1886</th>\n",
       "      <td>1886</td>\n",
       "      <td>-8.802845</td>\n",
       "      <td>-0.308900</td>\n",
       "      <td>4.037725</td>\n",
       "      <td>0</td>\n",
       "      <td>1</td>\n",
       "      <td>0</td>\n",
       "    </tr>\n",
       "    <tr>\n",
       "      <th>1887</th>\n",
       "      <td>1887</td>\n",
       "      <td>-8.656770</td>\n",
       "      <td>-0.128992</td>\n",
       "      <td>4.042094</td>\n",
       "      <td>0</td>\n",
       "      <td>1</td>\n",
       "      <td>0</td>\n",
       "    </tr>\n",
       "    <tr>\n",
       "      <th>1888</th>\n",
       "      <td>1888</td>\n",
       "      <td>-8.578666</td>\n",
       "      <td>0.058676</td>\n",
       "      <td>4.048617</td>\n",
       "      <td>0</td>\n",
       "      <td>1</td>\n",
       "      <td>0</td>\n",
       "    </tr>\n",
       "    <tr>\n",
       "      <th>1889</th>\n",
       "      <td>1889</td>\n",
       "      <td>-8.548950</td>\n",
       "      <td>0.298799</td>\n",
       "      <td>4.027875</td>\n",
       "      <td>0</td>\n",
       "      <td>1</td>\n",
       "      <td>0</td>\n",
       "    </tr>\n",
       "    <tr>\n",
       "      <th>1890</th>\n",
       "      <td>1890</td>\n",
       "      <td>-8.567890</td>\n",
       "      <td>0.506176</td>\n",
       "      <td>4.000709</td>\n",
       "      <td>0</td>\n",
       "      <td>1</td>\n",
       "      <td>0</td>\n",
       "    </tr>\n",
       "  </tbody>\n",
       "</table>\n",
       "<p>788 rows × 7 columns</p>\n",
       "</div>"
      ],
      "text/plain": [
       "      Time      AccV     AccML     AccAP  StartHesitation  Turn  Walking\n",
       "1103  1103 -9.395300  2.358647  2.928994                0     1        0\n",
       "1104  1104 -9.166603  2.287368  2.894901                0     1        0\n",
       "1105  1105 -9.181004  2.209043  2.736913                0     1        0\n",
       "1106  1106 -9.206637  2.146686  2.741799                0     1        0\n",
       "1107  1107 -9.180733  2.076467  2.802830                0     1        0\n",
       "...    ...       ...       ...       ...              ...   ...      ...\n",
       "1886  1886 -8.802845 -0.308900  4.037725                0     1        0\n",
       "1887  1887 -8.656770 -0.128992  4.042094                0     1        0\n",
       "1888  1888 -8.578666  0.058676  4.048617                0     1        0\n",
       "1889  1889 -8.548950  0.298799  4.027875                0     1        0\n",
       "1890  1890 -8.567890  0.506176  4.000709                0     1        0\n",
       "\n",
       "[788 rows x 7 columns]"
      ]
     },
     "execution_count": 5,
     "metadata": {},
     "output_type": "execute_result"
    }
   ],
   "source": [
    "tdcsfog_003f117e14[tdcsfog_003f117e14['Turn'] == 1]"
   ]
  },
  {
   "cell_type": "markdown",
   "id": "49c54929",
   "metadata": {
    "papermill": {
     "duration": 0.019045,
     "end_time": "2023-05-03T03:15:43.423364",
     "exception": false,
     "start_time": "2023-05-03T03:15:43.404319",
     "status": "completed"
    },
    "tags": []
   },
   "source": [
    "**The sensor data was collected during this period of time (from 1103 to 1890) when the subject was making turns.**"
   ]
  },
  {
   "cell_type": "code",
   "execution_count": 6,
   "id": "f624fb9e",
   "metadata": {
    "execution": {
     "iopub.execute_input": "2023-05-03T03:15:43.463273Z",
     "iopub.status.busy": "2023-05-03T03:15:43.462860Z",
     "iopub.status.idle": "2023-05-03T03:15:43.481626Z",
     "shell.execute_reply": "2023-05-03T03:15:43.479528Z"
    },
    "papermill": {
     "duration": 0.041811,
     "end_time": "2023-05-03T03:15:43.484441",
     "exception": false,
     "start_time": "2023-05-03T03:15:43.442630",
     "status": "completed"
    },
    "tags": []
   },
   "outputs": [
    {
     "name": "stdout",
     "output_type": "stream",
     "text": [
      "<class 'pandas.core.frame.DataFrame'>\n",
      "RangeIndex: 4682 entries, 0 to 4681\n",
      "Data columns (total 7 columns):\n",
      " #   Column           Non-Null Count  Dtype  \n",
      "---  ------           --------------  -----  \n",
      " 0   Time             4682 non-null   int64  \n",
      " 1   AccV             4682 non-null   float64\n",
      " 2   AccML            4682 non-null   float64\n",
      " 3   AccAP            4682 non-null   float64\n",
      " 4   StartHesitation  4682 non-null   int64  \n",
      " 5   Turn             4682 non-null   int64  \n",
      " 6   Walking          4682 non-null   int64  \n",
      "dtypes: float64(3), int64(4)\n",
      "memory usage: 256.2 KB\n"
     ]
    }
   ],
   "source": [
    "tdcsfog_003f117e14.info()"
   ]
  },
  {
   "cell_type": "markdown",
   "id": "45dfb207",
   "metadata": {
    "papermill": {
     "duration": 0.027929,
     "end_time": "2023-05-03T03:15:43.536429",
     "exception": false,
     "start_time": "2023-05-03T03:15:43.508500",
     "status": "completed"
    },
    "tags": []
   },
   "source": [
    "Here, we **normalize \"Time\"**."
   ]
  },
  {
   "cell_type": "code",
   "execution_count": 7,
   "id": "70c4f730",
   "metadata": {
    "execution": {
     "iopub.execute_input": "2023-05-03T03:15:43.578951Z",
     "iopub.status.busy": "2023-05-03T03:15:43.577982Z",
     "iopub.status.idle": "2023-05-03T03:15:43.596793Z",
     "shell.execute_reply": "2023-05-03T03:15:43.595518Z"
    },
    "papermill": {
     "duration": 0.043174,
     "end_time": "2023-05-03T03:15:43.599287",
     "exception": false,
     "start_time": "2023-05-03T03:15:43.556113",
     "status": "completed"
    },
    "tags": []
   },
   "outputs": [
    {
     "data": {
      "text/html": [
       "<div>\n",
       "<style scoped>\n",
       "    .dataframe tbody tr th:only-of-type {\n",
       "        vertical-align: middle;\n",
       "    }\n",
       "\n",
       "    .dataframe tbody tr th {\n",
       "        vertical-align: top;\n",
       "    }\n",
       "\n",
       "    .dataframe thead th {\n",
       "        text-align: right;\n",
       "    }\n",
       "</style>\n",
       "<table border=\"1\" class=\"dataframe\">\n",
       "  <thead>\n",
       "    <tr style=\"text-align: right;\">\n",
       "      <th></th>\n",
       "      <th>Time</th>\n",
       "      <th>AccV</th>\n",
       "      <th>AccML</th>\n",
       "      <th>AccAP</th>\n",
       "      <th>StartHesitation</th>\n",
       "      <th>Turn</th>\n",
       "      <th>Walking</th>\n",
       "    </tr>\n",
       "  </thead>\n",
       "  <tbody>\n",
       "    <tr>\n",
       "      <th>0</th>\n",
       "      <td>0.000000</td>\n",
       "      <td>-9.533939</td>\n",
       "      <td>0.566322</td>\n",
       "      <td>-1.413525</td>\n",
       "      <td>0</td>\n",
       "      <td>0</td>\n",
       "      <td>0</td>\n",
       "    </tr>\n",
       "    <tr>\n",
       "      <th>1</th>\n",
       "      <td>0.000214</td>\n",
       "      <td>-9.536140</td>\n",
       "      <td>0.564137</td>\n",
       "      <td>-1.440621</td>\n",
       "      <td>0</td>\n",
       "      <td>0</td>\n",
       "      <td>0</td>\n",
       "    </tr>\n",
       "    <tr>\n",
       "      <th>2</th>\n",
       "      <td>0.000427</td>\n",
       "      <td>-9.529345</td>\n",
       "      <td>0.561765</td>\n",
       "      <td>-1.429332</td>\n",
       "      <td>0</td>\n",
       "      <td>0</td>\n",
       "      <td>0</td>\n",
       "    </tr>\n",
       "    <tr>\n",
       "      <th>3</th>\n",
       "      <td>0.000641</td>\n",
       "      <td>-9.531239</td>\n",
       "      <td>0.564227</td>\n",
       "      <td>-1.415490</td>\n",
       "      <td>0</td>\n",
       "      <td>0</td>\n",
       "      <td>0</td>\n",
       "    </tr>\n",
       "    <tr>\n",
       "      <th>4</th>\n",
       "      <td>0.000855</td>\n",
       "      <td>-9.540825</td>\n",
       "      <td>0.561854</td>\n",
       "      <td>-1.429471</td>\n",
       "      <td>0</td>\n",
       "      <td>0</td>\n",
       "      <td>0</td>\n",
       "    </tr>\n",
       "    <tr>\n",
       "      <th>...</th>\n",
       "      <td>...</td>\n",
       "      <td>...</td>\n",
       "      <td>...</td>\n",
       "      <td>...</td>\n",
       "      <td>...</td>\n",
       "      <td>...</td>\n",
       "      <td>...</td>\n",
       "    </tr>\n",
       "    <tr>\n",
       "      <th>4677</th>\n",
       "      <td>0.999145</td>\n",
       "      <td>-9.351431</td>\n",
       "      <td>0.370047</td>\n",
       "      <td>-2.286318</td>\n",
       "      <td>0</td>\n",
       "      <td>0</td>\n",
       "      <td>0</td>\n",
       "    </tr>\n",
       "    <tr>\n",
       "      <th>4678</th>\n",
       "      <td>0.999359</td>\n",
       "      <td>-9.341410</td>\n",
       "      <td>0.347721</td>\n",
       "      <td>-2.321991</td>\n",
       "      <td>0</td>\n",
       "      <td>0</td>\n",
       "      <td>0</td>\n",
       "    </tr>\n",
       "    <tr>\n",
       "      <th>4679</th>\n",
       "      <td>0.999573</td>\n",
       "      <td>-9.350667</td>\n",
       "      <td>0.361341</td>\n",
       "      <td>-2.297158</td>\n",
       "      <td>0</td>\n",
       "      <td>0</td>\n",
       "      <td>0</td>\n",
       "    </tr>\n",
       "    <tr>\n",
       "      <th>4680</th>\n",
       "      <td>0.999786</td>\n",
       "      <td>-9.343977</td>\n",
       "      <td>0.365726</td>\n",
       "      <td>-2.292650</td>\n",
       "      <td>0</td>\n",
       "      <td>0</td>\n",
       "      <td>0</td>\n",
       "    </tr>\n",
       "    <tr>\n",
       "      <th>4681</th>\n",
       "      <td>1.000000</td>\n",
       "      <td>-9.348477</td>\n",
       "      <td>0.379439</td>\n",
       "      <td>-2.335422</td>\n",
       "      <td>0</td>\n",
       "      <td>0</td>\n",
       "      <td>0</td>\n",
       "    </tr>\n",
       "  </tbody>\n",
       "</table>\n",
       "<p>4682 rows × 7 columns</p>\n",
       "</div>"
      ],
      "text/plain": [
       "          Time      AccV     AccML     AccAP  StartHesitation  Turn  Walking\n",
       "0     0.000000 -9.533939  0.566322 -1.413525                0     0        0\n",
       "1     0.000214 -9.536140  0.564137 -1.440621                0     0        0\n",
       "2     0.000427 -9.529345  0.561765 -1.429332                0     0        0\n",
       "3     0.000641 -9.531239  0.564227 -1.415490                0     0        0\n",
       "4     0.000855 -9.540825  0.561854 -1.429471                0     0        0\n",
       "...        ...       ...       ...       ...              ...   ...      ...\n",
       "4677  0.999145 -9.351431  0.370047 -2.286318                0     0        0\n",
       "4678  0.999359 -9.341410  0.347721 -2.321991                0     0        0\n",
       "4679  0.999573 -9.350667  0.361341 -2.297158                0     0        0\n",
       "4680  0.999786 -9.343977  0.365726 -2.292650                0     0        0\n",
       "4681  1.000000 -9.348477  0.379439 -2.335422                0     0        0\n",
       "\n",
       "[4682 rows x 7 columns]"
      ]
     },
     "execution_count": 7,
     "metadata": {},
     "output_type": "execute_result"
    }
   ],
   "source": [
    "tdcsfog_003f117e14.Time = tdcsfog_003f117e14.Time / (len(tdcsfog_003f117e14) -1)\n",
    "tdcsfog_003f117e14"
   ]
  },
  {
   "cell_type": "markdown",
   "id": "cfc3a578",
   "metadata": {
    "papermill": {
     "duration": 0.019075,
     "end_time": "2023-05-03T03:15:43.637596",
     "exception": false,
     "start_time": "2023-05-03T03:15:43.618521",
     "status": "completed"
    },
    "tags": []
   },
   "source": [
    "In addition, **tdcsfog_metadata.csv identifies** each series in the tdcsfog dataset by **a unique Subject, Visit, Test, and Medication condition**."
   ]
  },
  {
   "cell_type": "code",
   "execution_count": 8,
   "id": "fd2acf61",
   "metadata": {
    "execution": {
     "iopub.execute_input": "2023-05-03T03:15:43.681778Z",
     "iopub.status.busy": "2023-05-03T03:15:43.680808Z",
     "iopub.status.idle": "2023-05-03T03:15:43.699207Z",
     "shell.execute_reply": "2023-05-03T03:15:43.697940Z"
    },
    "papermill": {
     "duration": 0.043341,
     "end_time": "2023-05-03T03:15:43.701828",
     "exception": false,
     "start_time": "2023-05-03T03:15:43.658487",
     "status": "completed"
    },
    "tags": []
   },
   "outputs": [
    {
     "data": {
      "text/html": [
       "<div>\n",
       "<style scoped>\n",
       "    .dataframe tbody tr th:only-of-type {\n",
       "        vertical-align: middle;\n",
       "    }\n",
       "\n",
       "    .dataframe tbody tr th {\n",
       "        vertical-align: top;\n",
       "    }\n",
       "\n",
       "    .dataframe thead th {\n",
       "        text-align: right;\n",
       "    }\n",
       "</style>\n",
       "<table border=\"1\" class=\"dataframe\">\n",
       "  <thead>\n",
       "    <tr style=\"text-align: right;\">\n",
       "      <th></th>\n",
       "      <th>Id</th>\n",
       "      <th>Subject</th>\n",
       "      <th>Visit</th>\n",
       "      <th>Medication</th>\n",
       "    </tr>\n",
       "  </thead>\n",
       "  <tbody>\n",
       "    <tr>\n",
       "      <th>0</th>\n",
       "      <td>02ab235146</td>\n",
       "      <td>ab54e1</td>\n",
       "      <td>2</td>\n",
       "      <td>on</td>\n",
       "    </tr>\n",
       "    <tr>\n",
       "      <th>1</th>\n",
       "      <td>02ea782681</td>\n",
       "      <td>bf608b</td>\n",
       "      <td>2</td>\n",
       "      <td>on</td>\n",
       "    </tr>\n",
       "    <tr>\n",
       "      <th>2</th>\n",
       "      <td>06414383cf</td>\n",
       "      <td>c0b71e</td>\n",
       "      <td>2</td>\n",
       "      <td>off</td>\n",
       "    </tr>\n",
       "    <tr>\n",
       "      <th>3</th>\n",
       "      <td>092b4c1819</td>\n",
       "      <td>b6a627</td>\n",
       "      <td>1</td>\n",
       "      <td>off</td>\n",
       "    </tr>\n",
       "    <tr>\n",
       "      <th>4</th>\n",
       "      <td>0a900ed8a2</td>\n",
       "      <td>b7bd52</td>\n",
       "      <td>2</td>\n",
       "      <td>on</td>\n",
       "    </tr>\n",
       "  </tbody>\n",
       "</table>\n",
       "</div>"
      ],
      "text/plain": [
       "           Id Subject  Visit Medication\n",
       "0  02ab235146  ab54e1      2         on\n",
       "1  02ea782681  bf608b      2         on\n",
       "2  06414383cf  c0b71e      2        off\n",
       "3  092b4c1819  b6a627      1        off\n",
       "4  0a900ed8a2  b7bd52      2         on"
      ]
     },
     "execution_count": 8,
     "metadata": {},
     "output_type": "execute_result"
    }
   ],
   "source": [
    "# tdcsfog metadata file\n",
    "tdcsfog_metadata = pd.read_csv(\"/kaggle/input/tlvmc-parkinsons-freezing-gait-prediction/defog_metadata.csv\")\n",
    "tdcsfog_metadata.head(5)"
   ]
  },
  {
   "cell_type": "markdown",
   "id": "54abd6e8",
   "metadata": {
    "papermill": {
     "duration": 0.022485,
     "end_time": "2023-05-03T03:15:43.743819",
     "exception": false,
     "start_time": "2023-05-03T03:15:43.721334",
     "status": "completed"
    },
    "tags": []
   },
   "source": [
    "This table appears to be a dataset containing information about patients, including their **unique ID (\"Id\"), subject ID (\"Subject\"), visit number (\"Visit\"), and medication status (\"Medication\")**.\n",
    "\n",
    "The **\"Id\"** column likely represents **a unique identifier assigned to each experiment** in the dataset. The \"Subject\" column represents **a unique identifier assigned to each patient**. The \"Visit\" column may represent a particular visit or assessment of the patient, and could be used to track changes in medication status or other variables over time.\n",
    "\n",
    "The \"Medication\" column indicates **whether or not the patient is taking medication at the time of the visit**, and could potentially be used as a predictor variable in a machine learning model to predict patient outcomes or response to treatment. However, without additional information about the context and purpose of this dataset, it is difficult to draw any further conclusions.\n",
    "\n",
    "**Next, let's see the test and sample submission files.**\n",
    "\n",
    "### Do Not Run This Cell in Case of Submission!"
   ]
  },
  {
   "cell_type": "code",
   "execution_count": 9,
   "id": "f938637e",
   "metadata": {
    "execution": {
     "iopub.execute_input": "2023-05-03T03:15:43.788949Z",
     "iopub.status.busy": "2023-05-03T03:15:43.788108Z",
     "iopub.status.idle": "2023-05-03T03:15:43.793539Z",
     "shell.execute_reply": "2023-05-03T03:15:43.792217Z"
    },
    "papermill": {
     "duration": 0.030148,
     "end_time": "2023-05-03T03:15:43.796134",
     "exception": false,
     "start_time": "2023-05-03T03:15:43.765986",
     "status": "completed"
    },
    "tags": []
   },
   "outputs": [],
   "source": [
    "# test file for tdcsfog\n",
    "#tdcsfog_003f117e14 = pd.read_csv('/kaggle/input/tlvmc-parkinsons-freezing-gait-prediction/test/tdcsfog/003f117e14.csv')\n",
    "#tdcsfog_003f117e14"
   ]
  },
  {
   "cell_type": "markdown",
   "id": "c3e76d2f",
   "metadata": {
    "papermill": {
     "duration": 0.01929,
     "end_time": "2023-05-03T03:15:43.834598",
     "exception": false,
     "start_time": "2023-05-03T03:15:43.815308",
     "status": "completed"
    },
    "tags": []
   },
   "source": [
    "This table appears to be a time series dataset containing motion sensor data, possibly from a wearable device, for a single subject. Each row represents a particular moment in time (as indicated by the **\"Time\"** column) and contains measurements of acceleration in three dimensions (**\"AccV\", \"AccML\", and \"AccAP\"**)."
   ]
  },
  {
   "cell_type": "code",
   "execution_count": 10,
   "id": "2dc748b3",
   "metadata": {
    "execution": {
     "iopub.execute_input": "2023-05-03T03:15:43.876688Z",
     "iopub.status.busy": "2023-05-03T03:15:43.875886Z",
     "iopub.status.idle": "2023-05-03T03:15:44.195712Z",
     "shell.execute_reply": "2023-05-03T03:15:44.194517Z"
    },
    "papermill": {
     "duration": 0.34364,
     "end_time": "2023-05-03T03:15:44.198211",
     "exception": false,
     "start_time": "2023-05-03T03:15:43.854571",
     "status": "completed"
    },
    "tags": []
   },
   "outputs": [
    {
     "data": {
      "text/html": [
       "<div>\n",
       "<style scoped>\n",
       "    .dataframe tbody tr th:only-of-type {\n",
       "        vertical-align: middle;\n",
       "    }\n",
       "\n",
       "    .dataframe tbody tr th {\n",
       "        vertical-align: top;\n",
       "    }\n",
       "\n",
       "    .dataframe thead th {\n",
       "        text-align: right;\n",
       "    }\n",
       "</style>\n",
       "<table border=\"1\" class=\"dataframe\">\n",
       "  <thead>\n",
       "    <tr style=\"text-align: right;\">\n",
       "      <th></th>\n",
       "      <th>Id</th>\n",
       "      <th>StartHesitation</th>\n",
       "      <th>Turn</th>\n",
       "      <th>Walking</th>\n",
       "    </tr>\n",
       "  </thead>\n",
       "  <tbody>\n",
       "    <tr>\n",
       "      <th>0</th>\n",
       "      <td>003f117e14_0</td>\n",
       "      <td>0</td>\n",
       "      <td>0</td>\n",
       "      <td>0</td>\n",
       "    </tr>\n",
       "    <tr>\n",
       "      <th>1</th>\n",
       "      <td>003f117e14_1</td>\n",
       "      <td>0</td>\n",
       "      <td>0</td>\n",
       "      <td>0</td>\n",
       "    </tr>\n",
       "    <tr>\n",
       "      <th>2</th>\n",
       "      <td>003f117e14_2</td>\n",
       "      <td>0</td>\n",
       "      <td>0</td>\n",
       "      <td>0</td>\n",
       "    </tr>\n",
       "    <tr>\n",
       "      <th>3</th>\n",
       "      <td>003f117e14_3</td>\n",
       "      <td>0</td>\n",
       "      <td>0</td>\n",
       "      <td>0</td>\n",
       "    </tr>\n",
       "    <tr>\n",
       "      <th>4</th>\n",
       "      <td>003f117e14_4</td>\n",
       "      <td>0</td>\n",
       "      <td>0</td>\n",
       "      <td>0</td>\n",
       "    </tr>\n",
       "    <tr>\n",
       "      <th>...</th>\n",
       "      <td>...</td>\n",
       "      <td>...</td>\n",
       "      <td>...</td>\n",
       "      <td>...</td>\n",
       "    </tr>\n",
       "    <tr>\n",
       "      <th>286365</th>\n",
       "      <td>02ab235146_281683</td>\n",
       "      <td>0</td>\n",
       "      <td>0</td>\n",
       "      <td>0</td>\n",
       "    </tr>\n",
       "    <tr>\n",
       "      <th>286366</th>\n",
       "      <td>02ab235146_281684</td>\n",
       "      <td>0</td>\n",
       "      <td>0</td>\n",
       "      <td>0</td>\n",
       "    </tr>\n",
       "    <tr>\n",
       "      <th>286367</th>\n",
       "      <td>02ab235146_281685</td>\n",
       "      <td>0</td>\n",
       "      <td>0</td>\n",
       "      <td>0</td>\n",
       "    </tr>\n",
       "    <tr>\n",
       "      <th>286368</th>\n",
       "      <td>02ab235146_281686</td>\n",
       "      <td>0</td>\n",
       "      <td>0</td>\n",
       "      <td>0</td>\n",
       "    </tr>\n",
       "    <tr>\n",
       "      <th>286369</th>\n",
       "      <td>02ab235146_281687</td>\n",
       "      <td>0</td>\n",
       "      <td>0</td>\n",
       "      <td>0</td>\n",
       "    </tr>\n",
       "  </tbody>\n",
       "</table>\n",
       "<p>286370 rows × 4 columns</p>\n",
       "</div>"
      ],
      "text/plain": [
       "                       Id  StartHesitation  Turn  Walking\n",
       "0            003f117e14_0                0     0        0\n",
       "1            003f117e14_1                0     0        0\n",
       "2            003f117e14_2                0     0        0\n",
       "3            003f117e14_3                0     0        0\n",
       "4            003f117e14_4                0     0        0\n",
       "...                   ...              ...   ...      ...\n",
       "286365  02ab235146_281683                0     0        0\n",
       "286366  02ab235146_281684                0     0        0\n",
       "286367  02ab235146_281685                0     0        0\n",
       "286368  02ab235146_281686                0     0        0\n",
       "286369  02ab235146_281687                0     0        0\n",
       "\n",
       "[286370 rows x 4 columns]"
      ]
     },
     "execution_count": 10,
     "metadata": {},
     "output_type": "execute_result"
    }
   ],
   "source": [
    "# sample submission file\n",
    "sample_submission = pd.read_csv('/kaggle/input/tlvmc-parkinsons-freezing-gait-prediction/sample_submission.csv')\n",
    "sample_submission"
   ]
  },
  {
   "cell_type": "markdown",
   "id": "27fce073",
   "metadata": {
    "papermill": {
     "duration": 0.019471,
     "end_time": "2023-05-03T03:15:44.237168",
     "exception": false,
     "start_time": "2023-05-03T03:15:44.217697",
     "status": "completed"
    },
    "tags": []
   },
   "source": [
    "This table appears to contain information as to **\"StartHesitation\", \"Turn\", and \"Walking.\"**\n",
    "\n",
    "Therefore, we have to make a model to **predict  \"StartHesitation\", \"Turn\", and \"Walking\" from  \"Time\",  \"AccV\", \"AccML\", and \"AccAP\"** in this competition. Thus, at the moment, we do **not use tdcsfog_metadata**.\n",
    "\n",
    "**Next, let's see one file in the defog folder.**"
   ]
  },
  {
   "cell_type": "code",
   "execution_count": 11,
   "id": "cae76ab9",
   "metadata": {
    "execution": {
     "iopub.execute_input": "2023-05-03T03:15:44.279033Z",
     "iopub.status.busy": "2023-05-03T03:15:44.277975Z",
     "iopub.status.idle": "2023-05-03T03:15:44.567427Z",
     "shell.execute_reply": "2023-05-03T03:15:44.566202Z"
    },
    "papermill": {
     "duration": 0.312903,
     "end_time": "2023-05-03T03:15:44.569952",
     "exception": false,
     "start_time": "2023-05-03T03:15:44.257049",
     "status": "completed"
    },
    "tags": []
   },
   "outputs": [
    {
     "data": {
      "text/html": [
       "<div>\n",
       "<style scoped>\n",
       "    .dataframe tbody tr th:only-of-type {\n",
       "        vertical-align: middle;\n",
       "    }\n",
       "\n",
       "    .dataframe tbody tr th {\n",
       "        vertical-align: top;\n",
       "    }\n",
       "\n",
       "    .dataframe thead th {\n",
       "        text-align: right;\n",
       "    }\n",
       "</style>\n",
       "<table border=\"1\" class=\"dataframe\">\n",
       "  <thead>\n",
       "    <tr style=\"text-align: right;\">\n",
       "      <th></th>\n",
       "      <th>Time</th>\n",
       "      <th>AccV</th>\n",
       "      <th>AccML</th>\n",
       "      <th>AccAP</th>\n",
       "      <th>StartHesitation</th>\n",
       "      <th>Turn</th>\n",
       "      <th>Walking</th>\n",
       "      <th>Valid</th>\n",
       "      <th>Task</th>\n",
       "    </tr>\n",
       "  </thead>\n",
       "  <tbody>\n",
       "    <tr>\n",
       "      <th>0</th>\n",
       "      <td>0</td>\n",
       "      <td>-1.000000</td>\n",
       "      <td>0.044129</td>\n",
       "      <td>-0.250000</td>\n",
       "      <td>0</td>\n",
       "      <td>0</td>\n",
       "      <td>0</td>\n",
       "      <td>False</td>\n",
       "      <td>False</td>\n",
       "    </tr>\n",
       "    <tr>\n",
       "      <th>1</th>\n",
       "      <td>1</td>\n",
       "      <td>-1.000000</td>\n",
       "      <td>0.034431</td>\n",
       "      <td>-0.250000</td>\n",
       "      <td>0</td>\n",
       "      <td>0</td>\n",
       "      <td>0</td>\n",
       "      <td>False</td>\n",
       "      <td>False</td>\n",
       "    </tr>\n",
       "    <tr>\n",
       "      <th>2</th>\n",
       "      <td>2</td>\n",
       "      <td>-1.000000</td>\n",
       "      <td>0.031250</td>\n",
       "      <td>-0.250000</td>\n",
       "      <td>0</td>\n",
       "      <td>0</td>\n",
       "      <td>0</td>\n",
       "      <td>False</td>\n",
       "      <td>False</td>\n",
       "    </tr>\n",
       "    <tr>\n",
       "      <th>3</th>\n",
       "      <td>3</td>\n",
       "      <td>-1.000000</td>\n",
       "      <td>0.031250</td>\n",
       "      <td>-0.250000</td>\n",
       "      <td>0</td>\n",
       "      <td>0</td>\n",
       "      <td>0</td>\n",
       "      <td>False</td>\n",
       "      <td>False</td>\n",
       "    </tr>\n",
       "    <tr>\n",
       "      <th>4</th>\n",
       "      <td>4</td>\n",
       "      <td>-1.000000</td>\n",
       "      <td>0.031250</td>\n",
       "      <td>-0.250000</td>\n",
       "      <td>0</td>\n",
       "      <td>0</td>\n",
       "      <td>0</td>\n",
       "      <td>False</td>\n",
       "      <td>False</td>\n",
       "    </tr>\n",
       "    <tr>\n",
       "      <th>...</th>\n",
       "      <td>...</td>\n",
       "      <td>...</td>\n",
       "      <td>...</td>\n",
       "      <td>...</td>\n",
       "      <td>...</td>\n",
       "      <td>...</td>\n",
       "      <td>...</td>\n",
       "      <td>...</td>\n",
       "      <td>...</td>\n",
       "    </tr>\n",
       "    <tr>\n",
       "      <th>162902</th>\n",
       "      <td>162902</td>\n",
       "      <td>-1.007283</td>\n",
       "      <td>0.234375</td>\n",
       "      <td>-0.375000</td>\n",
       "      <td>0</td>\n",
       "      <td>0</td>\n",
       "      <td>0</td>\n",
       "      <td>False</td>\n",
       "      <td>False</td>\n",
       "    </tr>\n",
       "    <tr>\n",
       "      <th>162903</th>\n",
       "      <td>162903</td>\n",
       "      <td>-1.000000</td>\n",
       "      <td>0.234375</td>\n",
       "      <td>-0.369159</td>\n",
       "      <td>0</td>\n",
       "      <td>0</td>\n",
       "      <td>0</td>\n",
       "      <td>False</td>\n",
       "      <td>False</td>\n",
       "    </tr>\n",
       "    <tr>\n",
       "      <th>162904</th>\n",
       "      <td>162904</td>\n",
       "      <td>-0.994626</td>\n",
       "      <td>0.234375</td>\n",
       "      <td>-0.351954</td>\n",
       "      <td>0</td>\n",
       "      <td>0</td>\n",
       "      <td>0</td>\n",
       "      <td>False</td>\n",
       "      <td>False</td>\n",
       "    </tr>\n",
       "    <tr>\n",
       "      <th>162905</th>\n",
       "      <td>162905</td>\n",
       "      <td>-0.977308</td>\n",
       "      <td>0.234375</td>\n",
       "      <td>-0.336683</td>\n",
       "      <td>0</td>\n",
       "      <td>0</td>\n",
       "      <td>0</td>\n",
       "      <td>False</td>\n",
       "      <td>False</td>\n",
       "    </tr>\n",
       "    <tr>\n",
       "      <th>162906</th>\n",
       "      <td>162906</td>\n",
       "      <td>-0.960406</td>\n",
       "      <td>0.234375</td>\n",
       "      <td>-0.319781</td>\n",
       "      <td>0</td>\n",
       "      <td>0</td>\n",
       "      <td>0</td>\n",
       "      <td>False</td>\n",
       "      <td>False</td>\n",
       "    </tr>\n",
       "  </tbody>\n",
       "</table>\n",
       "<p>162907 rows × 9 columns</p>\n",
       "</div>"
      ],
      "text/plain": [
       "          Time      AccV     AccML     AccAP  StartHesitation  Turn  Walking  \\\n",
       "0            0 -1.000000  0.044129 -0.250000                0     0        0   \n",
       "1            1 -1.000000  0.034431 -0.250000                0     0        0   \n",
       "2            2 -1.000000  0.031250 -0.250000                0     0        0   \n",
       "3            3 -1.000000  0.031250 -0.250000                0     0        0   \n",
       "4            4 -1.000000  0.031250 -0.250000                0     0        0   \n",
       "...        ...       ...       ...       ...              ...   ...      ...   \n",
       "162902  162902 -1.007283  0.234375 -0.375000                0     0        0   \n",
       "162903  162903 -1.000000  0.234375 -0.369159                0     0        0   \n",
       "162904  162904 -0.994626  0.234375 -0.351954                0     0        0   \n",
       "162905  162905 -0.977308  0.234375 -0.336683                0     0        0   \n",
       "162906  162906 -0.960406  0.234375 -0.319781                0     0        0   \n",
       "\n",
       "        Valid   Task  \n",
       "0       False  False  \n",
       "1       False  False  \n",
       "2       False  False  \n",
       "3       False  False  \n",
       "4       False  False  \n",
       "...       ...    ...  \n",
       "162902  False  False  \n",
       "162903  False  False  \n",
       "162904  False  False  \n",
       "162905  False  False  \n",
       "162906  False  False  \n",
       "\n",
       "[162907 rows x 9 columns]"
      ]
     },
     "execution_count": 11,
     "metadata": {},
     "output_type": "execute_result"
    }
   ],
   "source": [
    "# one defog file\n",
    "defog_02ea782681 = pd.read_csv('/kaggle/input/tlvmc-parkinsons-freezing-gait-prediction/train/defog/02ea782681.csv')\n",
    "defog_02ea782681"
   ]
  },
  {
   "cell_type": "markdown",
   "id": "7bc6e3f6",
   "metadata": {
    "papermill": {
     "duration": 0.020662,
     "end_time": "2023-05-03T03:15:44.612107",
     "exception": false,
     "start_time": "2023-05-03T03:15:44.591445",
     "status": "completed"
    },
    "tags": []
   },
   "source": [
    "Here, we **normalize \"Time\"**."
   ]
  },
  {
   "cell_type": "code",
   "execution_count": 12,
   "id": "27f341a9",
   "metadata": {
    "execution": {
     "iopub.execute_input": "2023-05-03T03:15:44.656735Z",
     "iopub.status.busy": "2023-05-03T03:15:44.655132Z",
     "iopub.status.idle": "2023-05-03T03:15:44.682717Z",
     "shell.execute_reply": "2023-05-03T03:15:44.681677Z"
    },
    "papermill": {
     "duration": 0.05308,
     "end_time": "2023-05-03T03:15:44.685720",
     "exception": false,
     "start_time": "2023-05-03T03:15:44.632640",
     "status": "completed"
    },
    "tags": []
   },
   "outputs": [
    {
     "data": {
      "text/html": [
       "<div>\n",
       "<style scoped>\n",
       "    .dataframe tbody tr th:only-of-type {\n",
       "        vertical-align: middle;\n",
       "    }\n",
       "\n",
       "    .dataframe tbody tr th {\n",
       "        vertical-align: top;\n",
       "    }\n",
       "\n",
       "    .dataframe thead th {\n",
       "        text-align: right;\n",
       "    }\n",
       "</style>\n",
       "<table border=\"1\" class=\"dataframe\">\n",
       "  <thead>\n",
       "    <tr style=\"text-align: right;\">\n",
       "      <th></th>\n",
       "      <th>Time</th>\n",
       "      <th>AccV</th>\n",
       "      <th>AccML</th>\n",
       "      <th>AccAP</th>\n",
       "      <th>StartHesitation</th>\n",
       "      <th>Turn</th>\n",
       "      <th>Walking</th>\n",
       "      <th>Valid</th>\n",
       "      <th>Task</th>\n",
       "    </tr>\n",
       "  </thead>\n",
       "  <tbody>\n",
       "    <tr>\n",
       "      <th>0</th>\n",
       "      <td>0.000000</td>\n",
       "      <td>-1.000000</td>\n",
       "      <td>0.044129</td>\n",
       "      <td>-0.250000</td>\n",
       "      <td>0</td>\n",
       "      <td>0</td>\n",
       "      <td>0</td>\n",
       "      <td>False</td>\n",
       "      <td>False</td>\n",
       "    </tr>\n",
       "    <tr>\n",
       "      <th>1</th>\n",
       "      <td>0.000006</td>\n",
       "      <td>-1.000000</td>\n",
       "      <td>0.034431</td>\n",
       "      <td>-0.250000</td>\n",
       "      <td>0</td>\n",
       "      <td>0</td>\n",
       "      <td>0</td>\n",
       "      <td>False</td>\n",
       "      <td>False</td>\n",
       "    </tr>\n",
       "    <tr>\n",
       "      <th>2</th>\n",
       "      <td>0.000012</td>\n",
       "      <td>-1.000000</td>\n",
       "      <td>0.031250</td>\n",
       "      <td>-0.250000</td>\n",
       "      <td>0</td>\n",
       "      <td>0</td>\n",
       "      <td>0</td>\n",
       "      <td>False</td>\n",
       "      <td>False</td>\n",
       "    </tr>\n",
       "    <tr>\n",
       "      <th>3</th>\n",
       "      <td>0.000018</td>\n",
       "      <td>-1.000000</td>\n",
       "      <td>0.031250</td>\n",
       "      <td>-0.250000</td>\n",
       "      <td>0</td>\n",
       "      <td>0</td>\n",
       "      <td>0</td>\n",
       "      <td>False</td>\n",
       "      <td>False</td>\n",
       "    </tr>\n",
       "    <tr>\n",
       "      <th>4</th>\n",
       "      <td>0.000025</td>\n",
       "      <td>-1.000000</td>\n",
       "      <td>0.031250</td>\n",
       "      <td>-0.250000</td>\n",
       "      <td>0</td>\n",
       "      <td>0</td>\n",
       "      <td>0</td>\n",
       "      <td>False</td>\n",
       "      <td>False</td>\n",
       "    </tr>\n",
       "    <tr>\n",
       "      <th>...</th>\n",
       "      <td>...</td>\n",
       "      <td>...</td>\n",
       "      <td>...</td>\n",
       "      <td>...</td>\n",
       "      <td>...</td>\n",
       "      <td>...</td>\n",
       "      <td>...</td>\n",
       "      <td>...</td>\n",
       "      <td>...</td>\n",
       "    </tr>\n",
       "    <tr>\n",
       "      <th>162902</th>\n",
       "      <td>0.999975</td>\n",
       "      <td>-1.007283</td>\n",
       "      <td>0.234375</td>\n",
       "      <td>-0.375000</td>\n",
       "      <td>0</td>\n",
       "      <td>0</td>\n",
       "      <td>0</td>\n",
       "      <td>False</td>\n",
       "      <td>False</td>\n",
       "    </tr>\n",
       "    <tr>\n",
       "      <th>162903</th>\n",
       "      <td>0.999982</td>\n",
       "      <td>-1.000000</td>\n",
       "      <td>0.234375</td>\n",
       "      <td>-0.369159</td>\n",
       "      <td>0</td>\n",
       "      <td>0</td>\n",
       "      <td>0</td>\n",
       "      <td>False</td>\n",
       "      <td>False</td>\n",
       "    </tr>\n",
       "    <tr>\n",
       "      <th>162904</th>\n",
       "      <td>0.999988</td>\n",
       "      <td>-0.994626</td>\n",
       "      <td>0.234375</td>\n",
       "      <td>-0.351954</td>\n",
       "      <td>0</td>\n",
       "      <td>0</td>\n",
       "      <td>0</td>\n",
       "      <td>False</td>\n",
       "      <td>False</td>\n",
       "    </tr>\n",
       "    <tr>\n",
       "      <th>162905</th>\n",
       "      <td>0.999994</td>\n",
       "      <td>-0.977308</td>\n",
       "      <td>0.234375</td>\n",
       "      <td>-0.336683</td>\n",
       "      <td>0</td>\n",
       "      <td>0</td>\n",
       "      <td>0</td>\n",
       "      <td>False</td>\n",
       "      <td>False</td>\n",
       "    </tr>\n",
       "    <tr>\n",
       "      <th>162906</th>\n",
       "      <td>1.000000</td>\n",
       "      <td>-0.960406</td>\n",
       "      <td>0.234375</td>\n",
       "      <td>-0.319781</td>\n",
       "      <td>0</td>\n",
       "      <td>0</td>\n",
       "      <td>0</td>\n",
       "      <td>False</td>\n",
       "      <td>False</td>\n",
       "    </tr>\n",
       "  </tbody>\n",
       "</table>\n",
       "<p>162907 rows × 9 columns</p>\n",
       "</div>"
      ],
      "text/plain": [
       "            Time      AccV     AccML     AccAP  StartHesitation  Turn  \\\n",
       "0       0.000000 -1.000000  0.044129 -0.250000                0     0   \n",
       "1       0.000006 -1.000000  0.034431 -0.250000                0     0   \n",
       "2       0.000012 -1.000000  0.031250 -0.250000                0     0   \n",
       "3       0.000018 -1.000000  0.031250 -0.250000                0     0   \n",
       "4       0.000025 -1.000000  0.031250 -0.250000                0     0   \n",
       "...          ...       ...       ...       ...              ...   ...   \n",
       "162902  0.999975 -1.007283  0.234375 -0.375000                0     0   \n",
       "162903  0.999982 -1.000000  0.234375 -0.369159                0     0   \n",
       "162904  0.999988 -0.994626  0.234375 -0.351954                0     0   \n",
       "162905  0.999994 -0.977308  0.234375 -0.336683                0     0   \n",
       "162906  1.000000 -0.960406  0.234375 -0.319781                0     0   \n",
       "\n",
       "        Walking  Valid   Task  \n",
       "0             0  False  False  \n",
       "1             0  False  False  \n",
       "2             0  False  False  \n",
       "3             0  False  False  \n",
       "4             0  False  False  \n",
       "...         ...    ...    ...  \n",
       "162902        0  False  False  \n",
       "162903        0  False  False  \n",
       "162904        0  False  False  \n",
       "162905        0  False  False  \n",
       "162906        0  False  False  \n",
       "\n",
       "[162907 rows x 9 columns]"
      ]
     },
     "execution_count": 12,
     "metadata": {},
     "output_type": "execute_result"
    }
   ],
   "source": [
    "defog_02ea782681.Time = defog_02ea782681.Time / (len(defog_02ea782681) - 1)\n",
    "defog_02ea782681"
   ]
  },
  {
   "cell_type": "markdown",
   "id": "172b4f62",
   "metadata": {
    "papermill": {
     "duration": 0.019922,
     "end_time": "2023-05-03T03:15:44.726122",
     "exception": false,
     "start_time": "2023-05-03T03:15:44.706200",
     "status": "completed"
    },
    "tags": []
   },
   "source": [
    "This table appears to contain sensor data and annotations related to a task performed by a subject. The columns **\"Time\", \"AccV\", \"AccML\", and \"AccAP\" likely contain motion sensor data similar to the previous examples**.\n",
    "\n",
    "The columns \"StartHesitation\", \"Turn\", and \"Walking\" appear to correspond to whether the subject is performing certain activities at each time point, similar to the previous example. However, in this case, there are **additional columns \"Valid\" and \"Task\" that provide information about the validity of the annotations and the task performed**.\n",
    "\n",
    "The **\"Valid\"** column appears to indicate whether the annotations for a given time point are considered to be **reliable or not**. The **\"Task\"** column appears to indicate whether the task was performed during a given time point. Portions of the data marked **\"False\"** in this column should be considered **unannotated and not used in analysis**.\n",
    "\n",
    "It's possible that this dataset was collected in the context of studying movement disorders or other neurological conditions, where accurate annotation of sensor data is important for clinical diagnosis and treatment planning. **This dataset could potentially be used to develop machine learning models to predict task performance or identify patterns of sensor data associated with certain movements or behaviors.** However, given the additional complexity introduced by the \"Valid\" and \"Task\" columns, **careful attention** would need to be paid to cleaning and preprocessing the data before using it for analysis or modeling.\n",
    "\n",
    "**Next, let's see its test file.**\n",
    "\n",
    "### Do Not Run This Cell in Case of Submission!"
   ]
  },
  {
   "cell_type": "code",
   "execution_count": 13,
   "id": "a87be1f0",
   "metadata": {
    "execution": {
     "iopub.execute_input": "2023-05-03T03:15:44.769247Z",
     "iopub.status.busy": "2023-05-03T03:15:44.768742Z",
     "iopub.status.idle": "2023-05-03T03:15:44.774459Z",
     "shell.execute_reply": "2023-05-03T03:15:44.773070Z"
    },
    "papermill": {
     "duration": 0.030329,
     "end_time": "2023-05-03T03:15:44.777054",
     "exception": false,
     "start_time": "2023-05-03T03:15:44.746725",
     "status": "completed"
    },
    "tags": []
   },
   "outputs": [],
   "source": [
    "# test file for defog\n",
    "#defog_02ab235146 = pd.read_csv('/kaggle/input/tlvmc-parkinsons-freezing-gait-prediction/test/defog/02ab235146.csv')\n",
    "#defog_02ab235146"
   ]
  },
  {
   "cell_type": "markdown",
   "id": "ec7e325c",
   "metadata": {
    "papermill": {
     "duration": 0.020067,
     "end_time": "2023-05-03T03:15:44.817574",
     "exception": false,
     "start_time": "2023-05-03T03:15:44.797507",
     "status": "completed"
    },
    "tags": []
   },
   "source": [
    "This table appears to be a time series dataset containing motion sensor data, possibly from a wearable device, for a single subject. Each row represents a particular moment in time (as indicated by the **\"Time\"** column) and contains measurements of acceleration in three dimensions (**\"AccV\", \"AccML\", and \"AccAP\"**).\n",
    "\n",
    "Therefore, we have to make a model to **predict  \"StartHesitation\", \"Turn\", and \"Walking\" from  \"Time\",  \"AccV\", \"AccML\", and \"AccAP\"** in this competition, **which is exactly the same as the tdcsfog folder**.\n",
    "\n",
    "**The tdcsfog folder includes more than 800 csv files and accounts for the majority of the information contained in the whole dataset for this competition.** Therefore, **the training files in the tdcsfog folder might be sufficient to create the prediction model to carry out the tasks**.\n",
    "\n",
    "Let's **take all the csv files in the tdcsfog folder and combine them into one dataset**."
   ]
  },
  {
   "cell_type": "markdown",
   "id": "3d8b5db3",
   "metadata": {
    "papermill": {
     "duration": 0.019501,
     "end_time": "2023-05-03T03:15:44.857769",
     "exception": false,
     "start_time": "2023-05-03T03:15:44.838268",
     "status": "completed"
    },
    "tags": []
   },
   "source": [
    "# Take All the CSV Files in the Train tdcsfog Folder"
   ]
  },
  {
   "cell_type": "code",
   "execution_count": 14,
   "id": "2addbca5",
   "metadata": {
    "execution": {
     "iopub.execute_input": "2023-05-03T03:15:44.900523Z",
     "iopub.status.busy": "2023-05-03T03:15:44.899134Z",
     "iopub.status.idle": "2023-05-03T03:16:03.877487Z",
     "shell.execute_reply": "2023-05-03T03:16:03.876034Z"
    },
    "papermill": {
     "duration": 19.002796,
     "end_time": "2023-05-03T03:16:03.880383",
     "exception": false,
     "start_time": "2023-05-03T03:15:44.877587",
     "status": "completed"
    },
    "tags": []
   },
   "outputs": [
    {
     "data": {
      "text/html": [
       "<div>\n",
       "<style scoped>\n",
       "    .dataframe tbody tr th:only-of-type {\n",
       "        vertical-align: middle;\n",
       "    }\n",
       "\n",
       "    .dataframe tbody tr th {\n",
       "        vertical-align: top;\n",
       "    }\n",
       "\n",
       "    .dataframe thead th {\n",
       "        text-align: right;\n",
       "    }\n",
       "</style>\n",
       "<table border=\"1\" class=\"dataframe\">\n",
       "  <thead>\n",
       "    <tr style=\"text-align: right;\">\n",
       "      <th></th>\n",
       "      <th>Time</th>\n",
       "      <th>AccV</th>\n",
       "      <th>AccML</th>\n",
       "      <th>AccAP</th>\n",
       "      <th>StartHesitation</th>\n",
       "      <th>Turn</th>\n",
       "      <th>Walking</th>\n",
       "    </tr>\n",
       "  </thead>\n",
       "  <tbody>\n",
       "    <tr>\n",
       "      <th>0</th>\n",
       "      <td>0.000000</td>\n",
       "      <td>-9.665890</td>\n",
       "      <td>0.042550</td>\n",
       "      <td>0.184744</td>\n",
       "      <td>0</td>\n",
       "      <td>0</td>\n",
       "      <td>0</td>\n",
       "    </tr>\n",
       "    <tr>\n",
       "      <th>1</th>\n",
       "      <td>0.000135</td>\n",
       "      <td>-9.672969</td>\n",
       "      <td>0.049217</td>\n",
       "      <td>0.184644</td>\n",
       "      <td>0</td>\n",
       "      <td>0</td>\n",
       "      <td>0</td>\n",
       "    </tr>\n",
       "    <tr>\n",
       "      <th>2</th>\n",
       "      <td>0.000270</td>\n",
       "      <td>-9.670260</td>\n",
       "      <td>0.033620</td>\n",
       "      <td>0.193790</td>\n",
       "      <td>0</td>\n",
       "      <td>0</td>\n",
       "      <td>0</td>\n",
       "    </tr>\n",
       "    <tr>\n",
       "      <th>3</th>\n",
       "      <td>0.000405</td>\n",
       "      <td>-9.673356</td>\n",
       "      <td>0.035159</td>\n",
       "      <td>0.184369</td>\n",
       "      <td>0</td>\n",
       "      <td>0</td>\n",
       "      <td>0</td>\n",
       "    </tr>\n",
       "    <tr>\n",
       "      <th>4</th>\n",
       "      <td>0.000541</td>\n",
       "      <td>-9.671458</td>\n",
       "      <td>0.043913</td>\n",
       "      <td>0.197814</td>\n",
       "      <td>0</td>\n",
       "      <td>0</td>\n",
       "      <td>0</td>\n",
       "    </tr>\n",
       "    <tr>\n",
       "      <th>...</th>\n",
       "      <td>...</td>\n",
       "      <td>...</td>\n",
       "      <td>...</td>\n",
       "      <td>...</td>\n",
       "      <td>...</td>\n",
       "      <td>...</td>\n",
       "      <td>...</td>\n",
       "    </tr>\n",
       "    <tr>\n",
       "      <th>5153</th>\n",
       "      <td>0.999224</td>\n",
       "      <td>-9.915920</td>\n",
       "      <td>-0.105897</td>\n",
       "      <td>-1.123455</td>\n",
       "      <td>0</td>\n",
       "      <td>0</td>\n",
       "      <td>0</td>\n",
       "    </tr>\n",
       "    <tr>\n",
       "      <th>5154</th>\n",
       "      <td>0.999418</td>\n",
       "      <td>-9.693752</td>\n",
       "      <td>-0.066892</td>\n",
       "      <td>-1.114903</td>\n",
       "      <td>0</td>\n",
       "      <td>0</td>\n",
       "      <td>0</td>\n",
       "    </tr>\n",
       "    <tr>\n",
       "      <th>5155</th>\n",
       "      <td>0.999612</td>\n",
       "      <td>-9.548118</td>\n",
       "      <td>-0.098315</td>\n",
       "      <td>-1.112123</td>\n",
       "      <td>0</td>\n",
       "      <td>0</td>\n",
       "      <td>0</td>\n",
       "    </tr>\n",
       "    <tr>\n",
       "      <th>5156</th>\n",
       "      <td>0.999806</td>\n",
       "      <td>-9.469803</td>\n",
       "      <td>-0.111004</td>\n",
       "      <td>-1.130814</td>\n",
       "      <td>0</td>\n",
       "      <td>0</td>\n",
       "      <td>0</td>\n",
       "    </tr>\n",
       "    <tr>\n",
       "      <th>5157</th>\n",
       "      <td>1.000000</td>\n",
       "      <td>-9.566318</td>\n",
       "      <td>-0.113865</td>\n",
       "      <td>-1.103353</td>\n",
       "      <td>0</td>\n",
       "      <td>0</td>\n",
       "      <td>0</td>\n",
       "    </tr>\n",
       "  </tbody>\n",
       "</table>\n",
       "<p>7062672 rows × 7 columns</p>\n",
       "</div>"
      ],
      "text/plain": [
       "          Time      AccV     AccML     AccAP  StartHesitation  Turn  Walking\n",
       "0     0.000000 -9.665890  0.042550  0.184744                0     0        0\n",
       "1     0.000135 -9.672969  0.049217  0.184644                0     0        0\n",
       "2     0.000270 -9.670260  0.033620  0.193790                0     0        0\n",
       "3     0.000405 -9.673356  0.035159  0.184369                0     0        0\n",
       "4     0.000541 -9.671458  0.043913  0.197814                0     0        0\n",
       "...        ...       ...       ...       ...              ...   ...      ...\n",
       "5153  0.999224 -9.915920 -0.105897 -1.123455                0     0        0\n",
       "5154  0.999418 -9.693752 -0.066892 -1.114903                0     0        0\n",
       "5155  0.999612 -9.548118 -0.098315 -1.112123                0     0        0\n",
       "5156  0.999806 -9.469803 -0.111004 -1.130814                0     0        0\n",
       "5157  1.000000 -9.566318 -0.113865 -1.103353                0     0        0\n",
       "\n",
       "[7062672 rows x 7 columns]"
      ]
     },
     "execution_count": 14,
     "metadata": {},
     "output_type": "execute_result"
    }
   ],
   "source": [
    "# Set the directory path to the folder containing the CSV files.\n",
    "tdcsfog_path = '/kaggle/input/tlvmc-parkinsons-freezing-gait-prediction/train/tdcsfog'\n",
    "\n",
    "# Initialize an empty list to store the dataframes.\n",
    "tdcsfog_list = []\n",
    "\n",
    "# Loop through each file in the directory and read it into a dataframe.\n",
    "for file_name in os.listdir(tdcsfog_path):\n",
    "    if file_name.endswith('.csv'):\n",
    "        file_path = os.path.join(tdcsfog_path, file_name)\n",
    "        file = pd.read_csv(file_path)\n",
    "        file.Time = file.Time / (len(file) - 1)\n",
    "        tdcsfog_list.append(file)\n",
    "\n",
    "# Concatenate the dataframes vertically using pd.concat().\n",
    "tdcsfog = pd.concat(tdcsfog_list, axis = 0)\n",
    "\n",
    "# Show the concatenated dataframe.\n",
    "tdcsfog"
   ]
  },
  {
   "cell_type": "markdown",
   "id": "5968d608",
   "metadata": {
    "papermill": {
     "duration": 0.020431,
     "end_time": "2023-05-03T03:16:03.922090",
     "exception": false,
     "start_time": "2023-05-03T03:16:03.901659",
     "status": "completed"
    },
    "tags": []
   },
   "source": [
    "It is better to reduce the memory usage. Reference: [Reducing DataFrame memory size by ~65%](https://www.kaggle.com/code/arjanso/reducing-dataframe-memory-size-by-65)"
   ]
  },
  {
   "cell_type": "code",
   "execution_count": 15,
   "id": "6872281f",
   "metadata": {
    "execution": {
     "iopub.execute_input": "2023-05-03T03:16:03.965809Z",
     "iopub.status.busy": "2023-05-03T03:16:03.965399Z",
     "iopub.status.idle": "2023-05-03T03:16:03.980099Z",
     "shell.execute_reply": "2023-05-03T03:16:03.978689Z"
    },
    "papermill": {
     "duration": 0.039963,
     "end_time": "2023-05-03T03:16:03.983064",
     "exception": false,
     "start_time": "2023-05-03T03:16:03.943101",
     "status": "completed"
    },
    "tags": []
   },
   "outputs": [],
   "source": [
    "def reduce_memory_usage(df):\n",
    "    \n",
    "    start_mem = df.memory_usage().sum() / 1024 ** 2\n",
    "    print('Memory usage of dataframe is {:.2f} MB'.format(start_mem))\n",
    "    \n",
    "    for col in df.columns:\n",
    "        col_type = df[col].dtype.name\n",
    "        if ((col_type != 'datetime64[ns]') & (col_type != 'category')):\n",
    "            if (col_type != 'object'):\n",
    "                c_min = df[col].min()\n",
    "                c_max = df[col].max()\n",
    "\n",
    "                if str(col_type)[:3] == 'int':\n",
    "                    if c_min > np.iinfo(np.int8).min and c_max < np.iinfo(np.int8).max:\n",
    "                        df[col] = df[col].astype(np.int8)\n",
    "                    elif c_min > np.iinfo(np.int16).min and c_max < np.iinfo(np.int16).max:\n",
    "                        df[col] = df[col].astype(np.int16)\n",
    "                    elif c_min > np.iinfo(np.int32).min and c_max < np.iinfo(np.int32).max:\n",
    "                        df[col] = df[col].astype(np.int32)\n",
    "                    elif c_min > np.iinfo(np.int64).min and c_max < np.iinfo(np.int64).max:\n",
    "                        df[col] = df[col].astype(np.int64)\n",
    "\n",
    "                else:\n",
    "                    if c_min > np.finfo(np.float16).min and c_max < np.finfo(np.float16).max:\n",
    "                        df[col] = df[col].astype(np.float16)\n",
    "                    elif c_min > np.finfo(np.float32).min and c_max < np.finfo(np.float32).max:\n",
    "                        df[col] = df[col].astype(np.float32)\n",
    "                    else:\n",
    "                        pass\n",
    "            else:\n",
    "                df[col] = df[col].astype('category')\n",
    "    mem_usg = df.memory_usage().sum() / 1024 ** 2 \n",
    "    print(\"Memory usage became: \",mem_usg,\" MB\")\n",
    "    \n",
    "    return df"
   ]
  },
  {
   "cell_type": "code",
   "execution_count": 16,
   "id": "2603d092",
   "metadata": {
    "execution": {
     "iopub.execute_input": "2023-05-03T03:16:04.027594Z",
     "iopub.status.busy": "2023-05-03T03:16:04.027203Z",
     "iopub.status.idle": "2023-05-03T03:16:04.835370Z",
     "shell.execute_reply": "2023-05-03T03:16:04.833393Z"
    },
    "papermill": {
     "duration": 0.833924,
     "end_time": "2023-05-03T03:16:04.838425",
     "exception": false,
     "start_time": "2023-05-03T03:16:04.004501",
     "status": "completed"
    },
    "tags": []
   },
   "outputs": [
    {
     "name": "stdout",
     "output_type": "stream",
     "text": [
      "Memory usage of dataframe is 431.07 MB\n",
      "Memory usage became:  127.97428894042969  MB\n"
     ]
    }
   ],
   "source": [
    "tdcsfog = reduce_memory_usage(tdcsfog)"
   ]
  },
  {
   "cell_type": "code",
   "execution_count": 17,
   "id": "83618f13",
   "metadata": {
    "execution": {
     "iopub.execute_input": "2023-05-03T03:16:04.882306Z",
     "iopub.status.busy": "2023-05-03T03:16:04.881797Z",
     "iopub.status.idle": "2023-05-03T03:16:08.408421Z",
     "shell.execute_reply": "2023-05-03T03:16:08.407155Z"
    },
    "papermill": {
     "duration": 3.552125,
     "end_time": "2023-05-03T03:16:08.411342",
     "exception": false,
     "start_time": "2023-05-03T03:16:04.859217",
     "status": "completed"
    },
    "tags": []
   },
   "outputs": [
    {
     "data": {
      "text/html": [
       "<div>\n",
       "<style scoped>\n",
       "    .dataframe tbody tr th:only-of-type {\n",
       "        vertical-align: middle;\n",
       "    }\n",
       "\n",
       "    .dataframe tbody tr th {\n",
       "        vertical-align: top;\n",
       "    }\n",
       "\n",
       "    .dataframe thead th {\n",
       "        text-align: right;\n",
       "    }\n",
       "</style>\n",
       "<table border=\"1\" class=\"dataframe\">\n",
       "  <thead>\n",
       "    <tr style=\"text-align: right;\">\n",
       "      <th></th>\n",
       "      <th>Time</th>\n",
       "      <th>AccV</th>\n",
       "      <th>AccML</th>\n",
       "      <th>AccAP</th>\n",
       "      <th>StartHesitation</th>\n",
       "      <th>Turn</th>\n",
       "      <th>Walking</th>\n",
       "    </tr>\n",
       "  </thead>\n",
       "  <tbody>\n",
       "    <tr>\n",
       "      <th>count</th>\n",
       "      <td>7062672.00</td>\n",
       "      <td>7.062672e+06</td>\n",
       "      <td>7.062672e+06</td>\n",
       "      <td>7.062672e+06</td>\n",
       "      <td>7.062672e+06</td>\n",
       "      <td>7.062672e+06</td>\n",
       "      <td>7.062672e+06</td>\n",
       "    </tr>\n",
       "    <tr>\n",
       "      <th>mean</th>\n",
       "      <td>NaN</td>\n",
       "      <td>NaN</td>\n",
       "      <td>NaN</td>\n",
       "      <td>NaN</td>\n",
       "      <td>4.315506e-02</td>\n",
       "      <td>2.376979e-01</td>\n",
       "      <td>2.942767e-02</td>\n",
       "    </tr>\n",
       "    <tr>\n",
       "      <th>std</th>\n",
       "      <td>0.00</td>\n",
       "      <td>0.000000e+00</td>\n",
       "      <td>0.000000e+00</td>\n",
       "      <td>0.000000e+00</td>\n",
       "      <td>2.032061e-01</td>\n",
       "      <td>4.256731e-01</td>\n",
       "      <td>1.690020e-01</td>\n",
       "    </tr>\n",
       "    <tr>\n",
       "      <th>min</th>\n",
       "      <td>0.00</td>\n",
       "      <td>-3.553125e+01</td>\n",
       "      <td>-2.617188e+01</td>\n",
       "      <td>-4.784375e+01</td>\n",
       "      <td>0.000000e+00</td>\n",
       "      <td>0.000000e+00</td>\n",
       "      <td>0.000000e+00</td>\n",
       "    </tr>\n",
       "    <tr>\n",
       "      <th>25%</th>\n",
       "      <td>0.25</td>\n",
       "      <td>-9.765625e+00</td>\n",
       "      <td>-9.296875e-01</td>\n",
       "      <td>5.673828e-01</td>\n",
       "      <td>0.000000e+00</td>\n",
       "      <td>0.000000e+00</td>\n",
       "      <td>0.000000e+00</td>\n",
       "    </tr>\n",
       "    <tr>\n",
       "      <th>50%</th>\n",
       "      <td>0.50</td>\n",
       "      <td>-9.367188e+00</td>\n",
       "      <td>-1.722412e-01</td>\n",
       "      <td>1.987305e+00</td>\n",
       "      <td>0.000000e+00</td>\n",
       "      <td>0.000000e+00</td>\n",
       "      <td>0.000000e+00</td>\n",
       "    </tr>\n",
       "    <tr>\n",
       "      <th>75%</th>\n",
       "      <td>0.75</td>\n",
       "      <td>-8.773438e+00</td>\n",
       "      <td>5.751953e-01</td>\n",
       "      <td>3.449219e+00</td>\n",
       "      <td>0.000000e+00</td>\n",
       "      <td>0.000000e+00</td>\n",
       "      <td>0.000000e+00</td>\n",
       "    </tr>\n",
       "    <tr>\n",
       "      <th>max</th>\n",
       "      <td>1.00</td>\n",
       "      <td>2.090625e+01</td>\n",
       "      <td>2.748438e+01</td>\n",
       "      <td>3.034375e+01</td>\n",
       "      <td>1.000000e+00</td>\n",
       "      <td>1.000000e+00</td>\n",
       "      <td>1.000000e+00</td>\n",
       "    </tr>\n",
       "  </tbody>\n",
       "</table>\n",
       "</div>"
      ],
      "text/plain": [
       "             Time          AccV         AccML         AccAP  StartHesitation  \\\n",
       "count  7062672.00  7.062672e+06  7.062672e+06  7.062672e+06     7.062672e+06   \n",
       "mean          NaN           NaN           NaN           NaN     4.315506e-02   \n",
       "std          0.00  0.000000e+00  0.000000e+00  0.000000e+00     2.032061e-01   \n",
       "min          0.00 -3.553125e+01 -2.617188e+01 -4.784375e+01     0.000000e+00   \n",
       "25%          0.25 -9.765625e+00 -9.296875e-01  5.673828e-01     0.000000e+00   \n",
       "50%          0.50 -9.367188e+00 -1.722412e-01  1.987305e+00     0.000000e+00   \n",
       "75%          0.75 -8.773438e+00  5.751953e-01  3.449219e+00     0.000000e+00   \n",
       "max          1.00  2.090625e+01  2.748438e+01  3.034375e+01     1.000000e+00   \n",
       "\n",
       "               Turn       Walking  \n",
       "count  7.062672e+06  7.062672e+06  \n",
       "mean   2.376979e-01  2.942767e-02  \n",
       "std    4.256731e-01  1.690020e-01  \n",
       "min    0.000000e+00  0.000000e+00  \n",
       "25%    0.000000e+00  0.000000e+00  \n",
       "50%    0.000000e+00  0.000000e+00  \n",
       "75%    0.000000e+00  0.000000e+00  \n",
       "max    1.000000e+00  1.000000e+00  "
      ]
     },
     "execution_count": 17,
     "metadata": {},
     "output_type": "execute_result"
    }
   ],
   "source": [
    "tdcsfog.describe()"
   ]
  },
  {
   "cell_type": "code",
   "execution_count": 18,
   "id": "d3e92659",
   "metadata": {
    "execution": {
     "iopub.execute_input": "2023-05-03T03:16:08.456227Z",
     "iopub.status.busy": "2023-05-03T03:16:08.455513Z",
     "iopub.status.idle": "2023-05-03T03:16:08.469822Z",
     "shell.execute_reply": "2023-05-03T03:16:08.468328Z"
    },
    "papermill": {
     "duration": 0.039926,
     "end_time": "2023-05-03T03:16:08.472686",
     "exception": false,
     "start_time": "2023-05-03T03:16:08.432760",
     "status": "completed"
    },
    "tags": []
   },
   "outputs": [
    {
     "data": {
      "text/plain": [
       "0.0431550551972398"
      ]
     },
     "execution_count": 18,
     "metadata": {},
     "output_type": "execute_result"
    }
   ],
   "source": [
    "tdcsfog['StartHesitation'].mean()"
   ]
  },
  {
   "cell_type": "code",
   "execution_count": 19,
   "id": "aaf45016",
   "metadata": {
    "execution": {
     "iopub.execute_input": "2023-05-03T03:16:08.517372Z",
     "iopub.status.busy": "2023-05-03T03:16:08.516976Z",
     "iopub.status.idle": "2023-05-03T03:16:08.530426Z",
     "shell.execute_reply": "2023-05-03T03:16:08.529055Z"
    },
    "papermill": {
     "duration": 0.038894,
     "end_time": "2023-05-03T03:16:08.533049",
     "exception": false,
     "start_time": "2023-05-03T03:16:08.494155",
     "status": "completed"
    },
    "tags": []
   },
   "outputs": [
    {
     "data": {
      "text/plain": [
       "0.23769785712829367"
      ]
     },
     "execution_count": 19,
     "metadata": {},
     "output_type": "execute_result"
    }
   ],
   "source": [
    "tdcsfog['Turn'].mean()"
   ]
  },
  {
   "cell_type": "code",
   "execution_count": 20,
   "id": "95fe2f8b",
   "metadata": {
    "execution": {
     "iopub.execute_input": "2023-05-03T03:16:08.578172Z",
     "iopub.status.busy": "2023-05-03T03:16:08.577733Z",
     "iopub.status.idle": "2023-05-03T03:16:08.591498Z",
     "shell.execute_reply": "2023-05-03T03:16:08.590432Z"
    },
    "papermill": {
     "duration": 0.039157,
     "end_time": "2023-05-03T03:16:08.593736",
     "exception": false,
     "start_time": "2023-05-03T03:16:08.554579",
     "status": "completed"
    },
    "tags": []
   },
   "outputs": [
    {
     "data": {
      "text/plain": [
       "0.029427672699510892"
      ]
     },
     "execution_count": 20,
     "metadata": {},
     "output_type": "execute_result"
    }
   ],
   "source": [
    "tdcsfog['Walking'].mean()"
   ]
  },
  {
   "cell_type": "code",
   "execution_count": 21,
   "id": "fd5f4877",
   "metadata": {
    "execution": {
     "iopub.execute_input": "2023-05-03T03:16:08.640915Z",
     "iopub.status.busy": "2023-05-03T03:16:08.639709Z",
     "iopub.status.idle": "2023-05-03T03:16:08.647678Z",
     "shell.execute_reply": "2023-05-03T03:16:08.646159Z"
    },
    "papermill": {
     "duration": 0.034129,
     "end_time": "2023-05-03T03:16:08.650140",
     "exception": false,
     "start_time": "2023-05-03T03:16:08.616011",
     "status": "completed"
    },
    "tags": []
   },
   "outputs": [
    {
     "data": {
      "text/plain": [
       "7062672"
      ]
     },
     "execution_count": 21,
     "metadata": {},
     "output_type": "execute_result"
    }
   ],
   "source": [
    "len(tdcsfog)"
   ]
  },
  {
   "cell_type": "code",
   "execution_count": 22,
   "id": "4f0725bc",
   "metadata": {
    "execution": {
     "iopub.execute_input": "2023-05-03T03:16:08.696605Z",
     "iopub.status.busy": "2023-05-03T03:16:08.695885Z",
     "iopub.status.idle": "2023-05-03T03:16:16.990788Z",
     "shell.execute_reply": "2023-05-03T03:16:16.989112Z"
    },
    "papermill": {
     "duration": 8.320927,
     "end_time": "2023-05-03T03:16:16.993658",
     "exception": false,
     "start_time": "2023-05-03T03:16:08.672731",
     "status": "completed"
    },
    "tags": []
   },
   "outputs": [
    {
     "data": {
      "text/plain": [
       "<AxesSubplot:xlabel='The Number of 1', ylabel='count'>"
      ]
     },
     "execution_count": 22,
     "metadata": {},
     "output_type": "execute_result"
    },
    {
     "data": {
      "image/png": "[encoded data removed]",
      "text/plain": [
       "<Figure size 640x480 with 1 Axes>"
      ]
     },
     "metadata": {},
     "output_type": "display_data"
    }
   ],
   "source": [
    "# Show the numbers by graph.\n",
    "data = pd.DataFrame(\n",
    "    np.concatenate([\n",
    "        ['Total'] * len(tdcsfog),\n",
    "        ['StartHesitation'] * int(np.ceil(len(tdcsfog) / 2 * tdcsfog['StartHesitation'].mean())),\n",
    "        ['Turn'] * int(np.ceil(len(tdcsfog) / 2 * tdcsfog['Turn'].mean())),\n",
    "        ['Walking'] * int(np.ceil(len(tdcsfog) / 2 * tdcsfog['Walking'].mean()))\n",
    "    ]),\n",
    "    columns = [\"The Number of 1\"]\n",
    ")\n",
    "\n",
    "sns.countplot(x = 'The Number of 1', data = data)"
   ]
  },
  {
   "cell_type": "markdown",
   "id": "c611f8b0",
   "metadata": {
    "papermill": {
     "duration": 0.022327,
     "end_time": "2023-05-03T03:16:17.038616",
     "exception": false,
     "start_time": "2023-05-03T03:16:17.016289",
     "status": "completed"
    },
    "tags": []
   },
   "source": [
    "**Most of the target variables are 0.**"
   ]
  },
  {
   "cell_type": "code",
   "execution_count": 23,
   "id": "4a811a3a",
   "metadata": {
    "execution": {
     "iopub.execute_input": "2023-05-03T03:16:17.085764Z",
     "iopub.status.busy": "2023-05-03T03:16:17.085313Z",
     "iopub.status.idle": "2023-05-03T03:19:32.971796Z",
     "shell.execute_reply": "2023-05-03T03:19:32.970729Z"
    },
    "papermill": {
     "duration": 195.940937,
     "end_time": "2023-05-03T03:19:33.002515",
     "exception": false,
     "start_time": "2023-05-03T03:16:17.061578",
     "status": "completed"
    },
    "tags": []
   },
   "outputs": [
    {
     "data": {
      "text/plain": [
       "<seaborn.axisgrid.PairGrid at 0x7bb0eb86e6d0>"
      ]
     },
     "execution_count": 23,
     "metadata": {},
     "output_type": "execute_result"
    },
    {
     "data": {
      "image/png": "[encoded data removed]",
      "text/plain": [
       "<Figure size 750x750 with 12 Axes>"
      ]
     },
     "metadata": {},
     "output_type": "display_data"
    }
   ],
   "source": [
    "# Visualize \"AccV\", \"AccML\", and \"AccAP.\"\n",
    "sns.pairplot(tdcsfog[['AccV', 'AccML', 'AccAP']])"
   ]
  },
  {
   "cell_type": "markdown",
   "id": "d1bcd2ef",
   "metadata": {
    "papermill": {
     "duration": 0.024727,
     "end_time": "2023-05-03T03:19:33.052294",
     "exception": false,
     "start_time": "2023-05-03T03:19:33.027567",
     "status": "completed"
    },
    "tags": []
   },
   "source": [
    "# The Relationship between Time and the 3 Events\n",
    "\n",
    "We should analyze **to what extent the \"Time\" is relevant to occurrence of \"StartHesitation\", \"Turn\", and \"Walking,\" respectively**.  Thus, we make a figure to show the relationships between \"Time\" (x-axis) and \"StartHesitation\", \"Turn\", and \"Walking\" (y-axis)."
   ]
  },
  {
   "cell_type": "code",
   "execution_count": 24,
   "id": "2c4c8cf2",
   "metadata": {
    "execution": {
     "iopub.execute_input": "2023-05-03T03:19:33.107087Z",
     "iopub.status.busy": "2023-05-03T03:19:33.105748Z",
     "iopub.status.idle": "2023-05-03T03:20:46.105120Z",
     "shell.execute_reply": "2023-05-03T03:20:46.103594Z"
    },
    "papermill": {
     "duration": 73.060051,
     "end_time": "2023-05-03T03:20:46.137774",
     "exception": false,
     "start_time": "2023-05-03T03:19:33.077723",
     "status": "completed"
    },
    "tags": []
   },
   "outputs": [
    {
     "name": "stderr",
     "output_type": "stream",
     "text": [
      "/opt/conda/lib/python3.7/site-packages/IPython/core/pylabtools.py:151: UserWarning: Creating legend with loc=\"best\" can be slow with large amounts of data.\n",
      "  fig.canvas.print_figure(bytes_io, **kw)\n"
     ]
    },
    {
     "data": {
      "image/png": "[encoded data removed]",
      "text/plain": [
       "<Figure size 1000x600 with 1 Axes>"
      ]
     },
     "metadata": {},
     "output_type": "display_data"
    }
   ],
   "source": [
    "# Create a figure and axis object.\n",
    "fig, ax = plt.subplots(figsize = (10, 6))\n",
    "\n",
    "# Plot the StartHesitation, Turn, and Walking columns against Time.\n",
    "ax.plot(tdcsfog['Time'], tdcsfog['StartHesitation'], label = 'StartHesitation')\n",
    "ax.plot(tdcsfog['Time'], tdcsfog['Turn'], label = 'Turn')\n",
    "ax.plot(tdcsfog['Time'], tdcsfog['Walking'], label = 'Walking')\n",
    "\n",
    "# Add axis labels and title.\n",
    "ax.set_xlabel('Time')\n",
    "ax.set_ylabel('Binary Status')\n",
    "ax.set_title('Relationship between Time and Movement Status')\n",
    "\n",
    "# Add a legend to the plot.\n",
    "ax.legend()\n",
    "\n",
    "# Show the plot.\n",
    "plt.show()"
   ]
  },
  {
   "cell_type": "markdown",
   "id": "446a1c3e",
   "metadata": {
    "papermill": {
     "duration": 0.0302,
     "end_time": "2023-05-03T03:20:46.195859",
     "exception": false,
     "start_time": "2023-05-03T03:20:46.165659",
     "status": "completed"
    },
    "tags": []
   },
   "source": [
    "Unfortunately, this figure above does not clearly show the relationships.\n",
    "\n",
    "We create a line plot by **taking the means of the three values by time**. This code groups the tdcsfog dataframe by the \"Time\" column, takes the mean of the other columns for each group, and then resets the index to a sequential integer index. This code creates a figure with the mean values of \"StartHesitation\", \"Turn\", and \"Walking\" on the y-axis and \"Time\" on the x-axis. The rest of the code is the same as before."
   ]
  },
  {
   "cell_type": "code",
   "execution_count": 25,
   "id": "0099301a",
   "metadata": {
    "execution": {
     "iopub.execute_input": "2023-05-03T03:20:46.255676Z",
     "iopub.status.busy": "2023-05-03T03:20:46.254031Z",
     "iopub.status.idle": "2023-05-03T03:20:47.181341Z",
     "shell.execute_reply": "2023-05-03T03:20:47.179613Z"
    },
    "papermill": {
     "duration": 0.961737,
     "end_time": "2023-05-03T03:20:47.184882",
     "exception": false,
     "start_time": "2023-05-03T03:20:46.223145",
     "status": "completed"
    },
    "tags": []
   },
   "outputs": [
    {
     "data": {
      "image/png": "[encoded data removed]",
      "text/plain": [
       "<Figure size 1200x600 with 1 Axes>"
      ]
     },
     "metadata": {},
     "output_type": "display_data"
    }
   ],
   "source": [
    "# Set the figure size.\n",
    "plt.figure(figsize = (12,6))\n",
    "\n",
    "# Calculates the mean values of all other columns for each unique value of Time.\n",
    "# Reset the index of the resulting dataframe.\n",
    "tdcsfog_means = tdcsfog.groupby('Time').mean().reset_index()\n",
    "\n",
    "# Plot the mean StartHesitation values over time.\n",
    "plt.plot(tdcsfog_means['Time'], tdcsfog_means['StartHesitation'], label = 'StartHesitation')\n",
    "\n",
    "# Plot the mean Turn values over time.\n",
    "plt.plot(tdcsfog_means['Time'], tdcsfog_means['Turn'], label = 'Turn')\n",
    "\n",
    "# Plot the mean Walking values over time.\n",
    "plt.plot(tdcsfog_means['Time'], tdcsfog_means['Walking'], label = 'Walking')\n",
    "\n",
    "# Add a legend to the plot.\n",
    "plt.legend()\n",
    "\n",
    "# Set the x-label of the plot.\n",
    "plt.xlabel('Time')\n",
    "\n",
    "# Set the y-label of the plot.\n",
    "plt.ylabel('Mean Value')\n",
    "\n",
    "# Set the title of the plot.\n",
    "plt.title('Mean Values of StartHesitation, Turn, and Walking over Time')\n",
    "\n",
    "# Display the plot.\n",
    "plt.show()"
   ]
  },
  {
   "cell_type": "markdown",
   "id": "bdf2445d",
   "metadata": {
    "papermill": {
     "duration": 0.031374,
     "end_time": "2023-05-03T03:20:47.246395",
     "exception": false,
     "start_time": "2023-05-03T03:20:47.215021",
     "status": "completed"
    },
    "tags": []
   },
   "source": [
    "There may be some relationship between \"Time\" and the 3 Events. Particularly, **\"StartHesitation\" was more likely to occur at specific times**. **Positive correlation may exist between \"Time\" and \"Walking.\"** However, **the relationship is a bit irregular**. It is not clear whether a prediction model had better include \"Time\" as an independent variable.\n",
    "\n",
    "For the moment, we create **a model with \"AccV\", \"AccML\", and \"AccAP,\" including \"Time\" to predict \"StartHesitation\", \"Turn\", and \"Walking,\" respectively**."
   ]
  },
  {
   "cell_type": "markdown",
   "id": "9336fa4a",
   "metadata": {
    "papermill": {
     "duration": 0.030832,
     "end_time": "2023-05-03T03:20:47.310476",
     "exception": false,
     "start_time": "2023-05-03T03:20:47.279644",
     "status": "completed"
    },
    "tags": []
   },
   "source": [
    "## Take All the CSV Files in the Train defog Folder"
   ]
  },
  {
   "cell_type": "code",
   "execution_count": 26,
   "id": "8748406c",
   "metadata": {
    "execution": {
     "iopub.execute_input": "2023-05-03T03:20:47.374037Z",
     "iopub.status.busy": "2023-05-03T03:20:47.373184Z",
     "iopub.status.idle": "2023-05-03T03:21:15.454373Z",
     "shell.execute_reply": "2023-05-03T03:21:15.452747Z"
    },
    "papermill": {
     "duration": 28.116394,
     "end_time": "2023-05-03T03:21:15.457334",
     "exception": false,
     "start_time": "2023-05-03T03:20:47.340940",
     "status": "completed"
    },
    "tags": []
   },
   "outputs": [
    {
     "data": {
      "text/html": [
       "<div>\n",
       "<style scoped>\n",
       "    .dataframe tbody tr th:only-of-type {\n",
       "        vertical-align: middle;\n",
       "    }\n",
       "\n",
       "    .dataframe tbody tr th {\n",
       "        vertical-align: top;\n",
       "    }\n",
       "\n",
       "    .dataframe thead th {\n",
       "        text-align: right;\n",
       "    }\n",
       "</style>\n",
       "<table border=\"1\" class=\"dataframe\">\n",
       "  <thead>\n",
       "    <tr style=\"text-align: right;\">\n",
       "      <th></th>\n",
       "      <th>Time</th>\n",
       "      <th>AccV</th>\n",
       "      <th>AccML</th>\n",
       "      <th>AccAP</th>\n",
       "      <th>StartHesitation</th>\n",
       "      <th>Turn</th>\n",
       "      <th>Walking</th>\n",
       "      <th>Valid</th>\n",
       "      <th>Task</th>\n",
       "    </tr>\n",
       "  </thead>\n",
       "  <tbody>\n",
       "    <tr>\n",
       "      <th>0</th>\n",
       "      <td>0.000000</td>\n",
       "      <td>-1.002697</td>\n",
       "      <td>0.022371</td>\n",
       "      <td>0.068304</td>\n",
       "      <td>0</td>\n",
       "      <td>0</td>\n",
       "      <td>0</td>\n",
       "      <td>False</td>\n",
       "      <td>False</td>\n",
       "    </tr>\n",
       "    <tr>\n",
       "      <th>1</th>\n",
       "      <td>0.000008</td>\n",
       "      <td>-1.002641</td>\n",
       "      <td>0.019173</td>\n",
       "      <td>0.066162</td>\n",
       "      <td>0</td>\n",
       "      <td>0</td>\n",
       "      <td>0</td>\n",
       "      <td>False</td>\n",
       "      <td>False</td>\n",
       "    </tr>\n",
       "    <tr>\n",
       "      <th>2</th>\n",
       "      <td>0.000017</td>\n",
       "      <td>-0.999820</td>\n",
       "      <td>0.019142</td>\n",
       "      <td>0.067536</td>\n",
       "      <td>0</td>\n",
       "      <td>0</td>\n",
       "      <td>0</td>\n",
       "      <td>False</td>\n",
       "      <td>False</td>\n",
       "    </tr>\n",
       "    <tr>\n",
       "      <th>3</th>\n",
       "      <td>0.000025</td>\n",
       "      <td>-0.998023</td>\n",
       "      <td>0.018378</td>\n",
       "      <td>0.068409</td>\n",
       "      <td>0</td>\n",
       "      <td>0</td>\n",
       "      <td>0</td>\n",
       "      <td>False</td>\n",
       "      <td>False</td>\n",
       "    </tr>\n",
       "    <tr>\n",
       "      <th>4</th>\n",
       "      <td>0.000034</td>\n",
       "      <td>-0.998359</td>\n",
       "      <td>0.016726</td>\n",
       "      <td>0.066448</td>\n",
       "      <td>0</td>\n",
       "      <td>0</td>\n",
       "      <td>0</td>\n",
       "      <td>False</td>\n",
       "      <td>False</td>\n",
       "    </tr>\n",
       "    <tr>\n",
       "      <th>...</th>\n",
       "      <td>...</td>\n",
       "      <td>...</td>\n",
       "      <td>...</td>\n",
       "      <td>...</td>\n",
       "      <td>...</td>\n",
       "      <td>...</td>\n",
       "      <td>...</td>\n",
       "      <td>...</td>\n",
       "      <td>...</td>\n",
       "    </tr>\n",
       "    <tr>\n",
       "      <th>109120</th>\n",
       "      <td>0.999963</td>\n",
       "      <td>-0.939241</td>\n",
       "      <td>0.031564</td>\n",
       "      <td>-0.394737</td>\n",
       "      <td>0</td>\n",
       "      <td>0</td>\n",
       "      <td>0</td>\n",
       "      <td>False</td>\n",
       "      <td>False</td>\n",
       "    </tr>\n",
       "    <tr>\n",
       "      <th>109121</th>\n",
       "      <td>0.999973</td>\n",
       "      <td>-0.941096</td>\n",
       "      <td>0.031582</td>\n",
       "      <td>-0.392626</td>\n",
       "      <td>0</td>\n",
       "      <td>0</td>\n",
       "      <td>0</td>\n",
       "      <td>False</td>\n",
       "      <td>False</td>\n",
       "    </tr>\n",
       "    <tr>\n",
       "      <th>109122</th>\n",
       "      <td>0.999982</td>\n",
       "      <td>-0.940131</td>\n",
       "      <td>0.029092</td>\n",
       "      <td>-0.394385</td>\n",
       "      <td>0</td>\n",
       "      <td>0</td>\n",
       "      <td>0</td>\n",
       "      <td>False</td>\n",
       "      <td>False</td>\n",
       "    </tr>\n",
       "    <tr>\n",
       "      <th>109123</th>\n",
       "      <td>0.999991</td>\n",
       "      <td>-0.939872</td>\n",
       "      <td>0.028058</td>\n",
       "      <td>-0.398664</td>\n",
       "      <td>0</td>\n",
       "      <td>0</td>\n",
       "      <td>0</td>\n",
       "      <td>False</td>\n",
       "      <td>False</td>\n",
       "    </tr>\n",
       "    <tr>\n",
       "      <th>109124</th>\n",
       "      <td>1.000000</td>\n",
       "      <td>-0.939006</td>\n",
       "      <td>0.026628</td>\n",
       "      <td>-0.398454</td>\n",
       "      <td>0</td>\n",
       "      <td>0</td>\n",
       "      <td>0</td>\n",
       "      <td>False</td>\n",
       "      <td>False</td>\n",
       "    </tr>\n",
       "  </tbody>\n",
       "</table>\n",
       "<p>13525702 rows × 9 columns</p>\n",
       "</div>"
      ],
      "text/plain": [
       "            Time      AccV     AccML     AccAP  StartHesitation  Turn  \\\n",
       "0       0.000000 -1.002697  0.022371  0.068304                0     0   \n",
       "1       0.000008 -1.002641  0.019173  0.066162                0     0   \n",
       "2       0.000017 -0.999820  0.019142  0.067536                0     0   \n",
       "3       0.000025 -0.998023  0.018378  0.068409                0     0   \n",
       "4       0.000034 -0.998359  0.016726  0.066448                0     0   \n",
       "...          ...       ...       ...       ...              ...   ...   \n",
       "109120  0.999963 -0.939241  0.031564 -0.394737                0     0   \n",
       "109121  0.999973 -0.941096  0.031582 -0.392626                0     0   \n",
       "109122  0.999982 -0.940131  0.029092 -0.394385                0     0   \n",
       "109123  0.999991 -0.939872  0.028058 -0.398664                0     0   \n",
       "109124  1.000000 -0.939006  0.026628 -0.398454                0     0   \n",
       "\n",
       "        Walking  Valid   Task  \n",
       "0             0  False  False  \n",
       "1             0  False  False  \n",
       "2             0  False  False  \n",
       "3             0  False  False  \n",
       "4             0  False  False  \n",
       "...         ...    ...    ...  \n",
       "109120        0  False  False  \n",
       "109121        0  False  False  \n",
       "109122        0  False  False  \n",
       "109123        0  False  False  \n",
       "109124        0  False  False  \n",
       "\n",
       "[13525702 rows x 9 columns]"
      ]
     },
     "execution_count": 26,
     "metadata": {},
     "output_type": "execute_result"
    }
   ],
   "source": [
    "# Set the directory path to the folder containing the CSV files.\n",
    "defog_path = '/kaggle/input/tlvmc-parkinsons-freezing-gait-prediction/train/defog'\n",
    "\n",
    "# Initialize an empty list to store the dataframes.\n",
    "defog_list = []\n",
    "\n",
    "# Loop through each file in the directory and read it into a dataframe.\n",
    "for file_name in os.listdir(defog_path):\n",
    "    if file_name.endswith('.csv'):\n",
    "        file_path = os.path.join(defog_path, file_name)\n",
    "        file = pd.read_csv(file_path)\n",
    "        file.Time = file.Time / (len(file) - 1)\n",
    "        defog_list.append(file)\n",
    "\n",
    "# Concatenate the dataframes vertically using pd.concat().\n",
    "defog = pd.concat(defog_list, axis = 0)\n",
    "\n",
    "# Show the concatenated dataframe.\n",
    "defog"
   ]
  },
  {
   "cell_type": "code",
   "execution_count": 27,
   "id": "77b0dd11",
   "metadata": {
    "execution": {
     "iopub.execute_input": "2023-05-03T03:21:15.517501Z",
     "iopub.status.busy": "2023-05-03T03:21:15.516198Z",
     "iopub.status.idle": "2023-05-03T03:21:16.855529Z",
     "shell.execute_reply": "2023-05-03T03:21:16.853781Z"
    },
    "papermill": {
     "duration": 1.37286,
     "end_time": "2023-05-03T03:21:16.858454",
     "exception": false,
     "start_time": "2023-05-03T03:21:15.485594",
     "status": "completed"
    },
    "tags": []
   },
   "outputs": [
    {
     "name": "stdout",
     "output_type": "stream",
     "text": [
      "Memory usage of dataframe is 851.34 MB\n",
      "Memory usage became:  296.6796360015869  MB\n"
     ]
    }
   ],
   "source": [
    "defog = reduce_memory_usage(defog)"
   ]
  },
  {
   "cell_type": "markdown",
   "id": "596830b6",
   "metadata": {
    "papermill": {
     "duration": 0.027633,
     "end_time": "2023-05-03T03:21:16.913824",
     "exception": false,
     "start_time": "2023-05-03T03:21:16.886191",
     "status": "completed"
    },
    "tags": []
   },
   "source": [
    "**We are going to use valid data only.**"
   ]
  },
  {
   "cell_type": "code",
   "execution_count": 28,
   "id": "dd142dbc",
   "metadata": {
    "execution": {
     "iopub.execute_input": "2023-05-03T03:21:16.971516Z",
     "iopub.status.busy": "2023-05-03T03:21:16.971079Z",
     "iopub.status.idle": "2023-05-03T03:21:17.444755Z",
     "shell.execute_reply": "2023-05-03T03:21:17.443127Z"
    },
    "papermill": {
     "duration": 0.506509,
     "end_time": "2023-05-03T03:21:17.448140",
     "exception": false,
     "start_time": "2023-05-03T03:21:16.941631",
     "status": "completed"
    },
    "tags": []
   },
   "outputs": [],
   "source": [
    "defog = defog[(defog['Task'] == 1) & (defog['Valid'] == 1)]"
   ]
  },
  {
   "cell_type": "code",
   "execution_count": 29,
   "id": "c7cd7e23",
   "metadata": {
    "execution": {
     "iopub.execute_input": "2023-05-03T03:21:17.507527Z",
     "iopub.status.busy": "2023-05-03T03:21:17.507127Z",
     "iopub.status.idle": "2023-05-03T03:21:17.552871Z",
     "shell.execute_reply": "2023-05-03T03:21:17.551438Z"
    },
    "papermill": {
     "duration": 0.07985,
     "end_time": "2023-05-03T03:21:17.556087",
     "exception": false,
     "start_time": "2023-05-03T03:21:17.476237",
     "status": "completed"
    },
    "tags": []
   },
   "outputs": [],
   "source": [
    "defog = defog.iloc[:, :7]"
   ]
  },
  {
   "cell_type": "code",
   "execution_count": 30,
   "id": "fdbb5b42",
   "metadata": {
    "execution": {
     "iopub.execute_input": "2023-05-03T03:21:17.616380Z",
     "iopub.status.busy": "2023-05-03T03:21:17.615970Z",
     "iopub.status.idle": "2023-05-03T03:21:19.640544Z",
     "shell.execute_reply": "2023-05-03T03:21:19.639209Z"
    },
    "papermill": {
     "duration": 2.058443,
     "end_time": "2023-05-03T03:21:19.643530",
     "exception": false,
     "start_time": "2023-05-03T03:21:17.585087",
     "status": "completed"
    },
    "tags": []
   },
   "outputs": [
    {
     "data": {
      "text/html": [
       "<div>\n",
       "<style scoped>\n",
       "    .dataframe tbody tr th:only-of-type {\n",
       "        vertical-align: middle;\n",
       "    }\n",
       "\n",
       "    .dataframe tbody tr th {\n",
       "        vertical-align: top;\n",
       "    }\n",
       "\n",
       "    .dataframe thead th {\n",
       "        text-align: right;\n",
       "    }\n",
       "</style>\n",
       "<table border=\"1\" class=\"dataframe\">\n",
       "  <thead>\n",
       "    <tr style=\"text-align: right;\">\n",
       "      <th></th>\n",
       "      <th>Time</th>\n",
       "      <th>AccV</th>\n",
       "      <th>AccML</th>\n",
       "      <th>AccAP</th>\n",
       "      <th>StartHesitation</th>\n",
       "      <th>Turn</th>\n",
       "      <th>Walking</th>\n",
       "    </tr>\n",
       "  </thead>\n",
       "  <tbody>\n",
       "    <tr>\n",
       "      <th>count</th>\n",
       "      <td>4.111322e+06</td>\n",
       "      <td>4.111322e+06</td>\n",
       "      <td>4.111322e+06</td>\n",
       "      <td>4.111322e+06</td>\n",
       "      <td>4.111322e+06</td>\n",
       "      <td>4.111322e+06</td>\n",
       "      <td>4.111322e+06</td>\n",
       "    </tr>\n",
       "    <tr>\n",
       "      <th>mean</th>\n",
       "      <td>NaN</td>\n",
       "      <td>NaN</td>\n",
       "      <td>-0.000000e+00</td>\n",
       "      <td>NaN</td>\n",
       "      <td>2.140431e-05</td>\n",
       "      <td>1.007900e-01</td>\n",
       "      <td>1.715288e-02</td>\n",
       "    </tr>\n",
       "    <tr>\n",
       "      <th>std</th>\n",
       "      <td>0.000000e+00</td>\n",
       "      <td>0.000000e+00</td>\n",
       "      <td>0.000000e+00</td>\n",
       "      <td>0.000000e+00</td>\n",
       "      <td>4.626430e-03</td>\n",
       "      <td>3.010504e-01</td>\n",
       "      <td>1.298409e-01</td>\n",
       "    </tr>\n",
       "    <tr>\n",
       "      <th>min</th>\n",
       "      <td>2.407074e-03</td>\n",
       "      <td>-6.023438e+00</td>\n",
       "      <td>-2.115234e+00</td>\n",
       "      <td>-5.117188e+00</td>\n",
       "      <td>0.000000e+00</td>\n",
       "      <td>0.000000e+00</td>\n",
       "      <td>0.000000e+00</td>\n",
       "    </tr>\n",
       "    <tr>\n",
       "      <th>25%</th>\n",
       "      <td>2.454834e-01</td>\n",
       "      <td>-9.848633e-01</td>\n",
       "      <td>-8.465576e-02</td>\n",
       "      <td>-3.640137e-01</td>\n",
       "      <td>0.000000e+00</td>\n",
       "      <td>0.000000e+00</td>\n",
       "      <td>0.000000e+00</td>\n",
       "    </tr>\n",
       "    <tr>\n",
       "      <th>50%</th>\n",
       "      <td>5.209961e-01</td>\n",
       "      <td>-9.389648e-01</td>\n",
       "      <td>0.000000e+00</td>\n",
       "      <td>-2.500000e-01</td>\n",
       "      <td>0.000000e+00</td>\n",
       "      <td>0.000000e+00</td>\n",
       "      <td>0.000000e+00</td>\n",
       "    </tr>\n",
       "    <tr>\n",
       "      <th>75%</th>\n",
       "      <td>7.890625e-01</td>\n",
       "      <td>-8.867188e-01</td>\n",
       "      <td>9.210205e-02</td>\n",
       "      <td>-1.135254e-01</td>\n",
       "      <td>0.000000e+00</td>\n",
       "      <td>0.000000e+00</td>\n",
       "      <td>0.000000e+00</td>\n",
       "    </tr>\n",
       "    <tr>\n",
       "      <th>max</th>\n",
       "      <td>9.975586e-01</td>\n",
       "      <td>4.457031e+00</td>\n",
       "      <td>4.523438e+00</td>\n",
       "      <td>4.386719e+00</td>\n",
       "      <td>1.000000e+00</td>\n",
       "      <td>1.000000e+00</td>\n",
       "      <td>1.000000e+00</td>\n",
       "    </tr>\n",
       "  </tbody>\n",
       "</table>\n",
       "</div>"
      ],
      "text/plain": [
       "               Time          AccV         AccML         AccAP  \\\n",
       "count  4.111322e+06  4.111322e+06  4.111322e+06  4.111322e+06   \n",
       "mean            NaN           NaN -0.000000e+00           NaN   \n",
       "std    0.000000e+00  0.000000e+00  0.000000e+00  0.000000e+00   \n",
       "min    2.407074e-03 -6.023438e+00 -2.115234e+00 -5.117188e+00   \n",
       "25%    2.454834e-01 -9.848633e-01 -8.465576e-02 -3.640137e-01   \n",
       "50%    5.209961e-01 -9.389648e-01  0.000000e+00 -2.500000e-01   \n",
       "75%    7.890625e-01 -8.867188e-01  9.210205e-02 -1.135254e-01   \n",
       "max    9.975586e-01  4.457031e+00  4.523438e+00  4.386719e+00   \n",
       "\n",
       "       StartHesitation          Turn       Walking  \n",
       "count     4.111322e+06  4.111322e+06  4.111322e+06  \n",
       "mean      2.140431e-05  1.007900e-01  1.715288e-02  \n",
       "std       4.626430e-03  3.010504e-01  1.298409e-01  \n",
       "min       0.000000e+00  0.000000e+00  0.000000e+00  \n",
       "25%       0.000000e+00  0.000000e+00  0.000000e+00  \n",
       "50%       0.000000e+00  0.000000e+00  0.000000e+00  \n",
       "75%       0.000000e+00  0.000000e+00  0.000000e+00  \n",
       "max       1.000000e+00  1.000000e+00  1.000000e+00  "
      ]
     },
     "execution_count": 30,
     "metadata": {},
     "output_type": "execute_result"
    }
   ],
   "source": [
    "defog.describe()"
   ]
  },
  {
   "cell_type": "markdown",
   "id": "0cfe96c4",
   "metadata": {
    "papermill": {
     "duration": 0.028782,
     "end_time": "2023-05-03T03:21:19.703070",
     "exception": false,
     "start_time": "2023-05-03T03:21:19.674288",
     "status": "completed"
    },
    "tags": []
   },
   "source": [
    "**We merge tdcsfog and defog datasets into one merged dataset.**"
   ]
  },
  {
   "cell_type": "code",
   "execution_count": 31,
   "id": "776a6cc0",
   "metadata": {
    "execution": {
     "iopub.execute_input": "2023-05-03T03:21:19.762359Z",
     "iopub.status.busy": "2023-05-03T03:21:19.761902Z",
     "iopub.status.idle": "2023-05-03T03:21:19.917704Z",
     "shell.execute_reply": "2023-05-03T03:21:19.916121Z"
    },
    "papermill": {
     "duration": 0.189226,
     "end_time": "2023-05-03T03:21:19.920330",
     "exception": false,
     "start_time": "2023-05-03T03:21:19.731104",
     "status": "completed"
    },
    "tags": []
   },
   "outputs": [
    {
     "data": {
      "text/html": [
       "<div>\n",
       "<style scoped>\n",
       "    .dataframe tbody tr th:only-of-type {\n",
       "        vertical-align: middle;\n",
       "    }\n",
       "\n",
       "    .dataframe tbody tr th {\n",
       "        vertical-align: top;\n",
       "    }\n",
       "\n",
       "    .dataframe thead th {\n",
       "        text-align: right;\n",
       "    }\n",
       "</style>\n",
       "<table border=\"1\" class=\"dataframe\">\n",
       "  <thead>\n",
       "    <tr style=\"text-align: right;\">\n",
       "      <th></th>\n",
       "      <th>Time</th>\n",
       "      <th>AccV</th>\n",
       "      <th>AccML</th>\n",
       "      <th>AccAP</th>\n",
       "      <th>StartHesitation</th>\n",
       "      <th>Turn</th>\n",
       "      <th>Walking</th>\n",
       "    </tr>\n",
       "  </thead>\n",
       "  <tbody>\n",
       "    <tr>\n",
       "      <th>0</th>\n",
       "      <td>0.000000</td>\n",
       "      <td>-9.664062</td>\n",
       "      <td>0.042542</td>\n",
       "      <td>0.184692</td>\n",
       "      <td>0</td>\n",
       "      <td>0</td>\n",
       "      <td>0</td>\n",
       "    </tr>\n",
       "    <tr>\n",
       "      <th>1</th>\n",
       "      <td>0.000135</td>\n",
       "      <td>-9.671875</td>\n",
       "      <td>0.049225</td>\n",
       "      <td>0.184692</td>\n",
       "      <td>0</td>\n",
       "      <td>0</td>\n",
       "      <td>0</td>\n",
       "    </tr>\n",
       "    <tr>\n",
       "      <th>2</th>\n",
       "      <td>0.000270</td>\n",
       "      <td>-9.671875</td>\n",
       "      <td>0.033630</td>\n",
       "      <td>0.193848</td>\n",
       "      <td>0</td>\n",
       "      <td>0</td>\n",
       "      <td>0</td>\n",
       "    </tr>\n",
       "    <tr>\n",
       "      <th>3</th>\n",
       "      <td>0.000406</td>\n",
       "      <td>-9.671875</td>\n",
       "      <td>0.035156</td>\n",
       "      <td>0.184326</td>\n",
       "      <td>0</td>\n",
       "      <td>0</td>\n",
       "      <td>0</td>\n",
       "    </tr>\n",
       "    <tr>\n",
       "      <th>4</th>\n",
       "      <td>0.000541</td>\n",
       "      <td>-9.671875</td>\n",
       "      <td>0.043915</td>\n",
       "      <td>0.197754</td>\n",
       "      <td>0</td>\n",
       "      <td>0</td>\n",
       "      <td>0</td>\n",
       "    </tr>\n",
       "    <tr>\n",
       "      <th>...</th>\n",
       "      <td>...</td>\n",
       "      <td>...</td>\n",
       "      <td>...</td>\n",
       "      <td>...</td>\n",
       "      <td>...</td>\n",
       "      <td>...</td>\n",
       "      <td>...</td>\n",
       "    </tr>\n",
       "    <tr>\n",
       "      <th>108120</th>\n",
       "      <td>0.990723</td>\n",
       "      <td>-0.979004</td>\n",
       "      <td>0.043121</td>\n",
       "      <td>-0.392822</td>\n",
       "      <td>0</td>\n",
       "      <td>0</td>\n",
       "      <td>0</td>\n",
       "    </tr>\n",
       "    <tr>\n",
       "      <th>108121</th>\n",
       "      <td>0.990723</td>\n",
       "      <td>-0.949219</td>\n",
       "      <td>0.016144</td>\n",
       "      <td>-0.362549</td>\n",
       "      <td>0</td>\n",
       "      <td>0</td>\n",
       "      <td>0</td>\n",
       "    </tr>\n",
       "    <tr>\n",
       "      <th>108122</th>\n",
       "      <td>0.990723</td>\n",
       "      <td>-0.909668</td>\n",
       "      <td>-0.007553</td>\n",
       "      <td>-0.364502</td>\n",
       "      <td>0</td>\n",
       "      <td>0</td>\n",
       "      <td>0</td>\n",
       "    </tr>\n",
       "    <tr>\n",
       "      <th>108123</th>\n",
       "      <td>0.990723</td>\n",
       "      <td>-0.882324</td>\n",
       "      <td>-0.022476</td>\n",
       "      <td>-0.374023</td>\n",
       "      <td>0</td>\n",
       "      <td>0</td>\n",
       "      <td>0</td>\n",
       "    </tr>\n",
       "    <tr>\n",
       "      <th>108124</th>\n",
       "      <td>0.990723</td>\n",
       "      <td>-0.875000</td>\n",
       "      <td>-0.038879</td>\n",
       "      <td>-0.369385</td>\n",
       "      <td>0</td>\n",
       "      <td>0</td>\n",
       "      <td>0</td>\n",
       "    </tr>\n",
       "  </tbody>\n",
       "</table>\n",
       "<p>11173994 rows × 7 columns</p>\n",
       "</div>"
      ],
      "text/plain": [
       "            Time      AccV     AccML     AccAP  StartHesitation  Turn  Walking\n",
       "0       0.000000 -9.664062  0.042542  0.184692                0     0        0\n",
       "1       0.000135 -9.671875  0.049225  0.184692                0     0        0\n",
       "2       0.000270 -9.671875  0.033630  0.193848                0     0        0\n",
       "3       0.000406 -9.671875  0.035156  0.184326                0     0        0\n",
       "4       0.000541 -9.671875  0.043915  0.197754                0     0        0\n",
       "...          ...       ...       ...       ...              ...   ...      ...\n",
       "108120  0.990723 -0.979004  0.043121 -0.392822                0     0        0\n",
       "108121  0.990723 -0.949219  0.016144 -0.362549                0     0        0\n",
       "108122  0.990723 -0.909668 -0.007553 -0.364502                0     0        0\n",
       "108123  0.990723 -0.882324 -0.022476 -0.374023                0     0        0\n",
       "108124  0.990723 -0.875000 -0.038879 -0.369385                0     0        0\n",
       "\n",
       "[11173994 rows x 7 columns]"
      ]
     },
     "execution_count": 31,
     "metadata": {},
     "output_type": "execute_result"
    }
   ],
   "source": [
    "# Concatenate the dataframes vertically using pd.concat().\n",
    "merged = pd.concat([tdcsfog, defog], axis = 0)\n",
    "\n",
    "# Show the concatenated dataframe.\n",
    "merged"
   ]
  },
  {
   "cell_type": "markdown",
   "id": "49866ecd",
   "metadata": {
    "papermill": {
     "duration": 0.029581,
     "end_time": "2023-05-03T03:21:19.981341",
     "exception": false,
     "start_time": "2023-05-03T03:21:19.951760",
     "status": "completed"
    },
    "tags": []
   },
   "source": [
    "### The previous version showed that the dataset only with tdcsfog lead to better prediction for 'Walking.'  Thus, we do not use the merged data for 'Walking' prediction."
   ]
  },
  {
   "cell_type": "markdown",
   "id": "b4d2d783",
   "metadata": {
    "papermill": {
     "duration": 0.030405,
     "end_time": "2023-05-03T03:21:20.041453",
     "exception": false,
     "start_time": "2023-05-03T03:21:20.011048",
     "status": "completed"
    },
    "tags": []
   },
   "source": [
    "# Create Dataset\n",
    "\n",
    "First, we need to **split the data into input features (i.e., \"Time\", \"AccV\", \"AccML\", and \"AccAP\") and target variables (i.e., \"StartHesitation\", \"Turn\", and \"Walking\")**. We can do this using the .iloc method to select the appropriate columns."
   ]
  },
  {
   "cell_type": "code",
   "execution_count": 32,
   "id": "5d5e9257",
   "metadata": {
    "execution": {
     "iopub.execute_input": "2023-05-03T03:21:20.103656Z",
     "iopub.status.busy": "2023-05-03T03:21:20.103198Z",
     "iopub.status.idle": "2023-05-03T03:21:20.386846Z",
     "shell.execute_reply": "2023-05-03T03:21:20.385504Z"
    },
    "papermill": {
     "duration": 0.31837,
     "end_time": "2023-05-03T03:21:20.390159",
     "exception": false,
     "start_time": "2023-05-03T03:21:20.071789",
     "status": "completed"
    },
    "tags": []
   },
   "outputs": [],
   "source": [
    "X_merged = merged.iloc[:, 0:4]  # input features\n",
    "X = tdcsfog.iloc[:, 0:4]  # input features\n",
    "y1 = merged['StartHesitation']  # target variable for StartHesitation\n",
    "y2 = merged['Turn']  # target variable for Turn\n",
    "y3 = tdcsfog['Walking']  # target variable for Walking"
   ]
  },
  {
   "cell_type": "markdown",
   "id": "7b4f362b",
   "metadata": {
    "papermill": {
     "duration": 0.031091,
     "end_time": "2023-05-03T03:21:20.452435",
     "exception": false,
     "start_time": "2023-05-03T03:21:20.421344",
     "status": "completed"
    },
    "tags": []
   },
   "source": [
    "Most of the target variables are 0. We had better **create each balanced dataset with the target variables of 0 and 1 equally**."
   ]
  },
  {
   "cell_type": "code",
   "execution_count": 33,
   "id": "e7023fdf",
   "metadata": {
    "execution": {
     "iopub.execute_input": "2023-05-03T03:21:20.519038Z",
     "iopub.status.busy": "2023-05-03T03:21:20.518497Z",
     "iopub.status.idle": "2023-05-03T03:21:21.296432Z",
     "shell.execute_reply": "2023-05-03T03:21:21.294472Z"
    },
    "papermill": {
     "duration": 0.815501,
     "end_time": "2023-05-03T03:21:21.299975",
     "exception": false,
     "start_time": "2023-05-03T03:21:20.484474",
     "status": "completed"
    },
    "tags": []
   },
   "outputs": [],
   "source": [
    "# Find the positions of y1 where it equals 0.\n",
    "y1_zeros = np.where(y1 == 0)[0]\n",
    "y1_ones = np.where(y1 == 1)[0]\n",
    "\n",
    "# Choose the same number of samples with y1 == 1 as there are with y1 == 0.\n",
    "num1_ones = (y1 == 1).sum()\n",
    "np.random.seed(42)\n",
    "y1_zeros = np.random.choice(np.where(y1 == 0)[0], size = num1_ones, replace = False)\n",
    "\n",
    "# Combine the positions of y1 == 0 and y1 == 1.\n",
    "y1_balanced_idxs = np.sort(np.concatenate([y1_zeros, y1_ones]))\n",
    "\n",
    "# Use the balanced indices to get the corresponding rows of X and y1.\n",
    "X1_balanced = X_merged.iloc[y1_balanced_idxs, :]\n",
    "y1_balanced = y1.iloc[y1_balanced_idxs]"
   ]
  },
  {
   "cell_type": "code",
   "execution_count": 34,
   "id": "dbca5d58",
   "metadata": {
    "execution": {
     "iopub.execute_input": "2023-05-03T03:21:21.361008Z",
     "iopub.status.busy": "2023-05-03T03:21:21.359519Z",
     "iopub.status.idle": "2023-05-03T03:21:22.567501Z",
     "shell.execute_reply": "2023-05-03T03:21:22.565661Z"
    },
    "papermill": {
     "duration": 1.243345,
     "end_time": "2023-05-03T03:21:22.571703",
     "exception": false,
     "start_time": "2023-05-03T03:21:21.328358",
     "status": "completed"
    },
    "tags": []
   },
   "outputs": [],
   "source": [
    "# Find the positions of y2 where it equals 0.\n",
    "y2_zeros = np.where(y2 == 0)[0]\n",
    "y2_ones = np.where(y2 == 1)[0]\n",
    "\n",
    "# Choose the same number of samples with y2 == 1 as there are with y2 == 0.\n",
    "num2_ones = (y2 == 1).sum()\n",
    "np.random.seed(42)\n",
    "y2_zeros = np.random.choice(np.where(y2 == 0)[0], size = num2_ones, replace = False)\n",
    "\n",
    "# Combine the positions of y2 == 0 and y2 == 1.\n",
    "y2_balanced_idxs = np.sort(np.concatenate([y2_zeros, y2_ones]))\n",
    "\n",
    "# Use the balanced indices to get the corresponding rows of X and y1.\n",
    "X2_balanced = X_merged.iloc[y2_balanced_idxs, :]\n",
    "y2_balanced = y2.iloc[y2_balanced_idxs]"
   ]
  },
  {
   "cell_type": "code",
   "execution_count": 35,
   "id": "5bf589ca",
   "metadata": {
    "execution": {
     "iopub.execute_input": "2023-05-03T03:21:22.634790Z",
     "iopub.status.busy": "2023-05-03T03:21:22.634384Z",
     "iopub.status.idle": "2023-05-03T03:21:23.102317Z",
     "shell.execute_reply": "2023-05-03T03:21:23.100987Z"
    },
    "papermill": {
     "duration": 0.502412,
     "end_time": "2023-05-03T03:21:23.105432",
     "exception": false,
     "start_time": "2023-05-03T03:21:22.603020",
     "status": "completed"
    },
    "tags": []
   },
   "outputs": [],
   "source": [
    "# Find the positions of y3 where it equals 0.\n",
    "y3_zeros = np.where(y3 == 0)[0]\n",
    "y3_ones = np.where(y3 == 1)[0]\n",
    "\n",
    "# Choose the same number of samples with y3 == 1 as there are with y3 == 0.\n",
    "num3_ones = (y3 == 1).sum()\n",
    "np.random.seed(42)\n",
    "y3_zeros = np.random.choice(np.where(y3 == 0)[0], size = num3_ones, replace = False)\n",
    "\n",
    "# Combine the positions of y3 == 0 and y3 == 1.\n",
    "y3_balanced_idxs = np.sort(np.concatenate([y3_zeros, y3_ones]))\n",
    "\n",
    "# Use the balanced indices to get the corresponding rows of X and y3.\n",
    "X3_balanced = X.iloc[y3_balanced_idxs, :]\n",
    "y3_balanced = y3.iloc[y3_balanced_idxs]"
   ]
  },
  {
   "cell_type": "markdown",
   "id": "b8cf159e",
   "metadata": {
    "papermill": {
     "duration": 0.028643,
     "end_time": "2023-05-03T03:21:23.162723",
     "exception": false,
     "start_time": "2023-05-03T03:21:23.134080",
     "status": "completed"
    },
    "tags": []
   },
   "source": [
    "Next, we can **split the data into training and testing sets using the train_test_split function from scikit-learn**."
   ]
  },
  {
   "cell_type": "code",
   "execution_count": 36,
   "id": "c7617c52",
   "metadata": {
    "execution": {
     "iopub.execute_input": "2023-05-03T03:21:23.223997Z",
     "iopub.status.busy": "2023-05-03T03:21:23.223561Z",
     "iopub.status.idle": "2023-05-03T03:21:24.163738Z",
     "shell.execute_reply": "2023-05-03T03:21:24.162397Z"
    },
    "papermill": {
     "duration": 0.974759,
     "end_time": "2023-05-03T03:21:24.166856",
     "exception": false,
     "start_time": "2023-05-03T03:21:23.192097",
     "status": "completed"
    },
    "tags": []
   },
   "outputs": [],
   "source": [
    "from sklearn.model_selection import train_test_split\n",
    "\n",
    "X1_train, X1_test, y1_train, y1_test = train_test_split(X1_balanced, y1_balanced, test_size = 0.2, random_state = 42)\n",
    "X2_train, X2_test, y2_train, y2_test = train_test_split(X2_balanced, y2_balanced, test_size = 0.2, random_state = 42)\n",
    "X3_train, X3_test, y3_train, y3_test = train_test_split(X3_balanced, y3_balanced, test_size = 0.2, random_state = 42)"
   ]
  },
  {
   "cell_type": "markdown",
   "id": "d457becf",
   "metadata": {
    "papermill": {
     "duration": 0.028866,
     "end_time": "2023-05-03T03:21:24.224800",
     "exception": false,
     "start_time": "2023-05-03T03:21:24.195934",
     "status": "completed"
    },
    "tags": []
   },
   "source": [
    "Then, we **standardize the independent variables**."
   ]
  },
  {
   "cell_type": "code",
   "execution_count": 37,
   "id": "6d0644e6",
   "metadata": {
    "execution": {
     "iopub.execute_input": "2023-05-03T03:21:24.285644Z",
     "iopub.status.busy": "2023-05-03T03:21:24.284953Z",
     "iopub.status.idle": "2023-05-03T03:21:25.080541Z",
     "shell.execute_reply": "2023-05-03T03:21:25.079480Z"
    },
    "papermill": {
     "duration": 0.829221,
     "end_time": "2023-05-03T03:21:25.083391",
     "exception": false,
     "start_time": "2023-05-03T03:21:24.254170",
     "status": "completed"
    },
    "tags": []
   },
   "outputs": [],
   "source": [
    "from sklearn.preprocessing import StandardScaler\n",
    "\n",
    "# Standardize the independent variables.\n",
    "scaler1 = StandardScaler()\n",
    "X1_train = scaler1.fit_transform(X1_train)\n",
    "X1_test = scaler1.transform(X1_test)\n",
    "\n",
    "scaler2 = StandardScaler()\n",
    "X2_train = scaler2.fit_transform(X2_train)\n",
    "X2_test = scaler2.transform(X2_test)\n",
    "\n",
    "scaler3 = StandardScaler()\n",
    "X3_train = scaler3.fit_transform(X3_train)\n",
    "X3_test = scaler3.transform(X3_test)"
   ]
  },
  {
   "cell_type": "markdown",
   "id": "14d96c9b",
   "metadata": {
    "papermill": {
     "duration": 0.028215,
     "end_time": "2023-05-03T03:21:25.141519",
     "exception": false,
     "start_time": "2023-05-03T03:21:25.113304",
     "status": "completed"
    },
    "tags": []
   },
   "source": [
    "# Create, Train, and Evaluate Model\n",
    "\n",
    "Finally, we can **create and train three separate models**, one for each target variable, using a suitable algorithm, such as **logistic regression**.\n",
    "\n",
    "\\begin{equation*}\n",
    "P(y=1 \\mid \\mathbf{x}) = \\frac{1}{1 + e^{-\\mathbf{x}^T\\boldsymbol{\\beta}}}\n",
    "\\end{equation*}\n",
    "\n",
    "where: $P(y=1 \\mid \\mathbf{x})$ is the probability of the positive class given the input features $\\mathbf{x}$,\n",
    "       $\\mathbf{x}^T$ is the transpose of the input feature vector,\n",
    "       $\\boldsymbol{\\beta}$ is the parameter vector (coefficients),\n",
    "       $e$ is the exponential function."
   ]
  },
  {
   "cell_type": "code",
   "execution_count": 38,
   "id": "b6814584",
   "metadata": {
    "execution": {
     "iopub.execute_input": "2023-05-03T03:21:25.202105Z",
     "iopub.status.busy": "2023-05-03T03:21:25.201181Z",
     "iopub.status.idle": "2023-05-03T03:21:29.612098Z",
     "shell.execute_reply": "2023-05-03T03:21:29.610078Z"
    },
    "papermill": {
     "duration": 4.449156,
     "end_time": "2023-05-03T03:21:29.618950",
     "exception": false,
     "start_time": "2023-05-03T03:21:25.169794",
     "status": "completed"
    },
    "tags": []
   },
   "outputs": [
    {
     "name": "stdout",
     "output_type": "stream",
     "text": [
      "Accuracy for StartHesitation: 0.836402847021779\n",
      "Accuracy for Turn: 0.6376535505485121\n",
      "Accuracy for Walking: 0.7435166474210931\n"
     ]
    }
   ],
   "source": [
    "from sklearn.linear_model import LogisticRegression\n",
    "\n",
    "# Create three separate logistic regression models.\n",
    "model1 = LogisticRegression()\n",
    "model2 = LogisticRegression()\n",
    "model3 = LogisticRegression()\n",
    "\n",
    "# Train the models on the training data.\n",
    "model1.fit(X1_train, y1_train)\n",
    "model2.fit(X2_train, y2_train)\n",
    "model3.fit(X3_train, y3_train)\n",
    "\n",
    "# Evaluate the models on the test data.\n",
    "print('Accuracy for StartHesitation:', model1.score(X1_test, y1_test))\n",
    "print('Accuracy for Turn:', model2.score(X2_test, y2_test))\n",
    "print('Accuracy for Walking:', model3.score(X3_test, y3_test))"
   ]
  },
  {
   "cell_type": "markdown",
   "id": "d88384e0",
   "metadata": {
    "papermill": {
     "duration": 0.037315,
     "end_time": "2023-05-03T03:21:29.732896",
     "exception": false,
     "start_time": "2023-05-03T03:21:29.695581",
     "status": "completed"
    },
    "tags": []
   },
   "source": [
    "**Based on the accuracy scores in the old version without making balanced data, the model performed well for StartHesitation and Walking, with accuracy scores of 0.956 and 0.970, respectively.** The model had a lower accuracy score of 0.758 for Turn classification.\n",
    "\n",
    "**This time accuracy was lower, but actually, the performance level might be better.**\n",
    "\n",
    "It's also important to consider other metrics like **precision, recall, and F1-score** to evaluate the model's performance in more detail.\n",
    "\n",
    "\\begin{equation*}\n",
    "Accuracy: Accuracy = \\frac{TP + TN}{TP + TN + FP + FN}\n",
    "\\end{equation*}\n",
    "\n",
    "\\begin{equation*}\n",
    "Precision: Precision = \\frac{TP}{TP + FP}\n",
    "\\end{equation*}\n",
    "\n",
    "\\begin{equation*}\n",
    "Recall: Recall = \\frac{TP}{TP + FN}\n",
    "\\end{equation*}\n",
    "\n",
    "\\begin{equation*}\n",
    "F1-Score: F1 = 2 \\cdot \\frac{precision \\cdot recall}{precision + recall}\n",
    "\\end{equation*}\n",
    "\n",
    "where TP is the number of true positives, TN is the number of true negatives, FP is the number of false positives, and FN is the number of false negatives."
   ]
  },
  {
   "cell_type": "markdown",
   "id": "ed472361",
   "metadata": {
    "papermill": {
     "duration": 0.029698,
     "end_time": "2023-05-03T03:21:29.792601",
     "exception": false,
     "start_time": "2023-05-03T03:21:29.762903",
     "status": "completed"
    },
    "tags": []
   },
   "source": [
    "### To create a classification report and confusion matrix, we will need to use the predictions made by the models with the test data."
   ]
  },
  {
   "cell_type": "code",
   "execution_count": 39,
   "id": "9e6c808b",
   "metadata": {
    "execution": {
     "iopub.execute_input": "2023-05-03T03:21:29.853070Z",
     "iopub.status.busy": "2023-05-03T03:21:29.852494Z",
     "iopub.status.idle": "2023-05-03T03:21:32.175497Z",
     "shell.execute_reply": "2023-05-03T03:21:32.174067Z"
    },
    "papermill": {
     "duration": 2.357069,
     "end_time": "2023-05-03T03:21:32.179164",
     "exception": false,
     "start_time": "2023-05-03T03:21:29.822095",
     "status": "completed"
    },
    "tags": []
   },
   "outputs": [
    {
     "name": "stdout",
     "output_type": "stream",
     "text": [
      "Classification Report for StartHesitation:\n",
      "              precision    recall  f1-score   support\n",
      "\n",
      "           0       0.86      0.81      0.83     60924\n",
      "           1       0.82      0.87      0.84     61028\n",
      "\n",
      "    accuracy                           0.84    121952\n",
      "   macro avg       0.84      0.84      0.84    121952\n",
      "weighted avg       0.84      0.84      0.84    121952\n",
      "\n",
      "Classification Report for Turn:\n",
      "              precision    recall  f1-score   support\n",
      "\n",
      "           0       0.63      0.65      0.64    419297\n",
      "           1       0.64      0.62      0.63    417968\n",
      "\n",
      "    accuracy                           0.64    837265\n",
      "   macro avg       0.64      0.64      0.64    837265\n",
      "weighted avg       0.64      0.64      0.64    837265\n",
      "\n",
      "Classification Report for Walking:\n",
      "              precision    recall  f1-score   support\n",
      "\n",
      "           0       0.75      0.72      0.74     41326\n",
      "           1       0.73      0.77      0.75     41810\n",
      "\n",
      "    accuracy                           0.74     83136\n",
      "   macro avg       0.74      0.74      0.74     83136\n",
      "weighted avg       0.74      0.74      0.74     83136\n",
      "\n",
      "Confusion Matrix for StartHesitation:\n",
      "[[49129 11795]\n",
      " [ 8156 52872]]\n",
      "Confusion Matrix for Turn:\n",
      "[[274639 144658]\n",
      " [158722 259246]]\n",
      "Confusion Matrix for Walking:\n",
      "[[29742 11584]\n",
      " [ 9739 32071]]\n"
     ]
    }
   ],
   "source": [
    "from sklearn.metrics import classification_report, confusion_matrix\n",
    "\n",
    "# Get the predictions for the three models on the test data.\n",
    "y1_pred = model1.predict(X1_test)\n",
    "y2_pred = model2.predict(X2_test)\n",
    "y3_pred = model3.predict(X3_test)\n",
    "\n",
    "# Create a classification report for each model.\n",
    "print('Classification Report for StartHesitation:')\n",
    "print(classification_report(y1_test, y1_pred))\n",
    "\n",
    "print('Classification Report for Turn:')\n",
    "print(classification_report(y2_test, y2_pred))\n",
    "\n",
    "print('Classification Report for Walking:')\n",
    "print(classification_report(y3_test, y3_pred))\n",
    "\n",
    "# Create a confusion matrix for each model.\n",
    "print('Confusion Matrix for StartHesitation:')\n",
    "print(confusion_matrix(y1_test, y1_pred))\n",
    "\n",
    "print('Confusion Matrix for Turn:')\n",
    "print(confusion_matrix(y2_test, y2_pred))\n",
    "\n",
    "print('Confusion Matrix for Walking:')\n",
    "print(confusion_matrix(y3_test, y3_pred))"
   ]
  },
  {
   "cell_type": "markdown",
   "id": "0a340aba",
   "metadata": {
    "papermill": {
     "duration": 0.028752,
     "end_time": "2023-05-03T03:21:32.238332",
     "exception": false,
     "start_time": "2023-05-03T03:21:32.209580",
     "status": "completed"
    },
    "tags": []
   },
   "source": [
    "**Previously, tdcsfog and defog were not merged and tdcsfog was only used**, and **the models performed reasonably well**, with accuracies ranging from 0.60 to 0.71. The precision and recall scores are also **relatively balanced for each class**, indicating that **the models are not overly biased** towards predicting one class over the other.\n",
    "\n",
    "**The results were much better than those of the old version without making balanced datasets!**\n",
    "\n",
    "After **merging tdcsfog and defog**, the set of **classification reports and confusion matrices seem to be better**. The precision, recall and f1-scores are generally higher in the set of reports, while the accuracy is also higher for all three categories. Additionally, the confusion matrices in the merged set show **a better balance between true positives and true negatives**, which indicates that the model is performing better overall.\n",
    "\n",
    "### By including \"Time\" in the independent variables, the results for \"Walking\" were significantly improved!"
   ]
  },
  {
   "cell_type": "markdown",
   "id": "5c83ce0c",
   "metadata": {
    "papermill": {
     "duration": 0.02978,
     "end_time": "2023-05-03T03:21:32.297500",
     "exception": false,
     "start_time": "2023-05-03T03:21:32.267720",
     "status": "completed"
    },
    "tags": []
   },
   "source": [
    "## Confusion Matrix for StartHesitation"
   ]
  },
  {
   "cell_type": "code",
   "execution_count": 40,
   "id": "d186d684",
   "metadata": {
    "execution": {
     "iopub.execute_input": "2023-05-03T03:21:32.364632Z",
     "iopub.status.busy": "2023-05-03T03:21:32.364101Z",
     "iopub.status.idle": "2023-05-03T03:21:32.639459Z",
     "shell.execute_reply": "2023-05-03T03:21:32.637960Z"
    },
    "papermill": {
     "duration": 0.314667,
     "end_time": "2023-05-03T03:21:32.643381",
     "exception": false,
     "start_time": "2023-05-03T03:21:32.328714",
     "status": "completed"
    },
    "tags": []
   },
   "outputs": [
    {
     "data": {
      "text/plain": [
       "Text(50.72222222222221, 0.5, 'Truth')"
      ]
     },
     "execution_count": 40,
     "metadata": {},
     "output_type": "execute_result"
    },
    {
     "data": {
      "image/png": "[encoded data removed]",
      "text/plain": [
       "<Figure size 640x480 with 2 Axes>"
      ]
     },
     "metadata": {},
     "output_type": "display_data"
    }
   ],
   "source": [
    "cm = confusion_matrix(y1_test, y1_pred)\n",
    "\n",
    "# Define the class names.\n",
    "class_names = ['Normal', 'StartHesitation']\n",
    "\n",
    "# Create the heatmap with class names as tick labels.\n",
    "ax = sns.heatmap(cm, annot = True, fmt = '.0f', cmap = \"Blues\", annot_kws = {\"size\": 16},\\\n",
    "           xticklabels = class_names, yticklabels = class_names)\n",
    "\n",
    "# Set the axis labels.\n",
    "ax.set_xlabel(\"Prediction\")\n",
    "ax.set_ylabel(\"Truth\")"
   ]
  },
  {
   "cell_type": "markdown",
   "id": "946a656a",
   "metadata": {
    "papermill": {
     "duration": 0.030111,
     "end_time": "2023-05-03T03:21:32.704799",
     "exception": false,
     "start_time": "2023-05-03T03:21:32.674688",
     "status": "completed"
    },
    "tags": []
   },
   "source": [
    "## Confusion Matrix for Turn"
   ]
  },
  {
   "cell_type": "code",
   "execution_count": 41,
   "id": "c53e79bd",
   "metadata": {
    "execution": {
     "iopub.execute_input": "2023-05-03T03:21:32.771556Z",
     "iopub.status.busy": "2023-05-03T03:21:32.770079Z",
     "iopub.status.idle": "2023-05-03T03:21:33.211928Z",
     "shell.execute_reply": "2023-05-03T03:21:33.210882Z"
    },
    "papermill": {
     "duration": 0.477171,
     "end_time": "2023-05-03T03:21:33.214459",
     "exception": false,
     "start_time": "2023-05-03T03:21:32.737288",
     "status": "completed"
    },
    "tags": []
   },
   "outputs": [
    {
     "data": {
      "text/plain": [
       "Text(50.722222222222214, 0.5, 'Truth')"
      ]
     },
     "execution_count": 41,
     "metadata": {},
     "output_type": "execute_result"
    },
    {
     "data": {
      "image/png": "[encoded data removed]",
      "text/plain": [
       "<Figure size 640x480 with 2 Axes>"
      ]
     },
     "metadata": {},
     "output_type": "display_data"
    }
   ],
   "source": [
    "cm = confusion_matrix(y2_test, y2_pred)\n",
    "\n",
    "# Define the class names.\n",
    "class_names = ['Normal', 'Turn']\n",
    "\n",
    "# Create the heatmap with class names as tick labels.\n",
    "ax = sns.heatmap(cm, annot = True, fmt = '.0f', cmap = \"Blues\", annot_kws = {\"size\": 16},\\\n",
    "           xticklabels = class_names, yticklabels = class_names)\n",
    "\n",
    "# Set the axis labels.\n",
    "ax.set_xlabel(\"Prediction\")\n",
    "ax.set_ylabel(\"Truth\")"
   ]
  },
  {
   "cell_type": "markdown",
   "id": "ffda1d9d",
   "metadata": {
    "papermill": {
     "duration": 0.030718,
     "end_time": "2023-05-03T03:21:33.277470",
     "exception": false,
     "start_time": "2023-05-03T03:21:33.246752",
     "status": "completed"
    },
    "tags": []
   },
   "source": [
    "## Confusion Matrix for Walking"
   ]
  },
  {
   "cell_type": "code",
   "execution_count": 42,
   "id": "28f0fbbc",
   "metadata": {
    "execution": {
     "iopub.execute_input": "2023-05-03T03:21:33.349135Z",
     "iopub.status.busy": "2023-05-03T03:21:33.348620Z",
     "iopub.status.idle": "2023-05-03T03:21:33.682170Z",
     "shell.execute_reply": "2023-05-03T03:21:33.680442Z"
    },
    "papermill": {
     "duration": 0.37359,
     "end_time": "2023-05-03T03:21:33.685056",
     "exception": false,
     "start_time": "2023-05-03T03:21:33.311466",
     "status": "completed"
    },
    "tags": []
   },
   "outputs": [
    {
     "data": {
      "text/plain": [
       "Text(50.722222222222214, 0.5, 'Truth')"
      ]
     },
     "execution_count": 42,
     "metadata": {},
     "output_type": "execute_result"
    },
    {
     "data": {
      "image/png": "[encoded data removed]",
      "text/plain": [
       "<Figure size 640x480 with 2 Axes>"
      ]
     },
     "metadata": {},
     "output_type": "display_data"
    }
   ],
   "source": [
    "cm = confusion_matrix(y3_test, y3_pred)\n",
    "\n",
    "# Define the class names.\n",
    "class_names = ['Normal', 'Walking']\n",
    "\n",
    "# Create the heatmap with class names as tick labels.\n",
    "ax = sns.heatmap(cm, annot = True, fmt = '.0f', cmap = \"Blues\", annot_kws = {\"size\": 16},\\\n",
    "           xticklabels = class_names, yticklabels = class_names)\n",
    "\n",
    "# Set the axis labels.\n",
    "ax.set_xlabel(\"Prediction\")\n",
    "ax.set_ylabel(\"Truth\")"
   ]
  },
  {
   "cell_type": "markdown",
   "id": "f49d1c1e",
   "metadata": {
    "papermill": {
     "duration": 0.032959,
     "end_time": "2023-05-03T03:21:33.750656",
     "exception": false,
     "start_time": "2023-05-03T03:21:33.717697",
     "status": "completed"
    },
    "tags": []
   },
   "source": [
    "# Create Test Dataset"
   ]
  },
  {
   "cell_type": "code",
   "execution_count": 43,
   "id": "2fe6d155",
   "metadata": {
    "execution": {
     "iopub.execute_input": "2023-05-03T03:21:33.819498Z",
     "iopub.status.busy": "2023-05-03T03:21:33.819078Z",
     "iopub.status.idle": "2023-05-03T03:21:33.861996Z",
     "shell.execute_reply": "2023-05-03T03:21:33.860290Z"
    },
    "papermill": {
     "duration": 0.080681,
     "end_time": "2023-05-03T03:21:33.864773",
     "exception": false,
     "start_time": "2023-05-03T03:21:33.784092",
     "status": "completed"
    },
    "tags": []
   },
   "outputs": [
    {
     "data": {
      "text/html": [
       "<div>\n",
       "<style scoped>\n",
       "    .dataframe tbody tr th:only-of-type {\n",
       "        vertical-align: middle;\n",
       "    }\n",
       "\n",
       "    .dataframe tbody tr th {\n",
       "        vertical-align: top;\n",
       "    }\n",
       "\n",
       "    .dataframe thead th {\n",
       "        text-align: right;\n",
       "    }\n",
       "</style>\n",
       "<table border=\"1\" class=\"dataframe\">\n",
       "  <thead>\n",
       "    <tr style=\"text-align: right;\">\n",
       "      <th></th>\n",
       "      <th>Time</th>\n",
       "      <th>AccV</th>\n",
       "      <th>AccML</th>\n",
       "      <th>AccAP</th>\n",
       "      <th>Id</th>\n",
       "    </tr>\n",
       "  </thead>\n",
       "  <tbody>\n",
       "    <tr>\n",
       "      <th>0</th>\n",
       "      <td>0.000000</td>\n",
       "      <td>-9.533939</td>\n",
       "      <td>0.566322</td>\n",
       "      <td>-1.413525</td>\n",
       "      <td>003f117e14_0</td>\n",
       "    </tr>\n",
       "    <tr>\n",
       "      <th>1</th>\n",
       "      <td>0.000214</td>\n",
       "      <td>-9.536140</td>\n",
       "      <td>0.564137</td>\n",
       "      <td>-1.440621</td>\n",
       "      <td>003f117e14_1</td>\n",
       "    </tr>\n",
       "    <tr>\n",
       "      <th>2</th>\n",
       "      <td>0.000427</td>\n",
       "      <td>-9.529345</td>\n",
       "      <td>0.561765</td>\n",
       "      <td>-1.429332</td>\n",
       "      <td>003f117e14_2</td>\n",
       "    </tr>\n",
       "    <tr>\n",
       "      <th>3</th>\n",
       "      <td>0.000641</td>\n",
       "      <td>-9.531239</td>\n",
       "      <td>0.564227</td>\n",
       "      <td>-1.415490</td>\n",
       "      <td>003f117e14_3</td>\n",
       "    </tr>\n",
       "    <tr>\n",
       "      <th>4</th>\n",
       "      <td>0.000855</td>\n",
       "      <td>-9.540825</td>\n",
       "      <td>0.561854</td>\n",
       "      <td>-1.429471</td>\n",
       "      <td>003f117e14_4</td>\n",
       "    </tr>\n",
       "    <tr>\n",
       "      <th>...</th>\n",
       "      <td>...</td>\n",
       "      <td>...</td>\n",
       "      <td>...</td>\n",
       "      <td>...</td>\n",
       "      <td>...</td>\n",
       "    </tr>\n",
       "    <tr>\n",
       "      <th>4677</th>\n",
       "      <td>0.999145</td>\n",
       "      <td>-9.351431</td>\n",
       "      <td>0.370047</td>\n",
       "      <td>-2.286318</td>\n",
       "      <td>003f117e14_4677</td>\n",
       "    </tr>\n",
       "    <tr>\n",
       "      <th>4678</th>\n",
       "      <td>0.999359</td>\n",
       "      <td>-9.341410</td>\n",
       "      <td>0.347721</td>\n",
       "      <td>-2.321991</td>\n",
       "      <td>003f117e14_4678</td>\n",
       "    </tr>\n",
       "    <tr>\n",
       "      <th>4679</th>\n",
       "      <td>0.999573</td>\n",
       "      <td>-9.350667</td>\n",
       "      <td>0.361341</td>\n",
       "      <td>-2.297158</td>\n",
       "      <td>003f117e14_4679</td>\n",
       "    </tr>\n",
       "    <tr>\n",
       "      <th>4680</th>\n",
       "      <td>0.999786</td>\n",
       "      <td>-9.343977</td>\n",
       "      <td>0.365726</td>\n",
       "      <td>-2.292650</td>\n",
       "      <td>003f117e14_4680</td>\n",
       "    </tr>\n",
       "    <tr>\n",
       "      <th>4681</th>\n",
       "      <td>1.000000</td>\n",
       "      <td>-9.348477</td>\n",
       "      <td>0.379439</td>\n",
       "      <td>-2.335422</td>\n",
       "      <td>003f117e14_4681</td>\n",
       "    </tr>\n",
       "  </tbody>\n",
       "</table>\n",
       "<p>4682 rows × 5 columns</p>\n",
       "</div>"
      ],
      "text/plain": [
       "          Time      AccV     AccML     AccAP               Id\n",
       "0     0.000000 -9.533939  0.566322 -1.413525     003f117e14_0\n",
       "1     0.000214 -9.536140  0.564137 -1.440621     003f117e14_1\n",
       "2     0.000427 -9.529345  0.561765 -1.429332     003f117e14_2\n",
       "3     0.000641 -9.531239  0.564227 -1.415490     003f117e14_3\n",
       "4     0.000855 -9.540825  0.561854 -1.429471     003f117e14_4\n",
       "...        ...       ...       ...       ...              ...\n",
       "4677  0.999145 -9.351431  0.370047 -2.286318  003f117e14_4677\n",
       "4678  0.999359 -9.341410  0.347721 -2.321991  003f117e14_4678\n",
       "4679  0.999573 -9.350667  0.361341 -2.297158  003f117e14_4679\n",
       "4680  0.999786 -9.343977  0.365726 -2.292650  003f117e14_4680\n",
       "4681  1.000000 -9.348477  0.379439 -2.335422  003f117e14_4681\n",
       "\n",
       "[4682 rows x 5 columns]"
      ]
     },
     "execution_count": 43,
     "metadata": {},
     "output_type": "execute_result"
    }
   ],
   "source": [
    "# Set the directory path to the folder containing the CSV files.\n",
    "tdcsfog_test_path = '/kaggle/input/tlvmc-parkinsons-freezing-gait-prediction/test/tdcsfog'\n",
    "\n",
    "# Initialize an empty list to store the dataframes.\n",
    "tdcsfog_test_list = []\n",
    "\n",
    "# Loop through each file in the directory and read it into a dataframe.\n",
    "for file_name in os.listdir(tdcsfog_test_path):\n",
    "    if file_name.endswith('.csv'):\n",
    "        file_path = os.path.join(tdcsfog_test_path, file_name)\n",
    "        file = pd.read_csv(file_path)\n",
    "        file['Id'] = file_name[:-4] + '_' + file['Time'].apply(str)\n",
    "        file.Time = file.Time / (len(file) - 1)\n",
    "        tdcsfog_test_list.append(file)\n",
    "\n",
    "# Concatenate the dataframes vertically using pd.concat().\n",
    "tdcsfog_test = pd.concat(tdcsfog_test_list, axis = 0)\n",
    "\n",
    "# Show the concatenated dataframe.\n",
    "tdcsfog_test"
   ]
  },
  {
   "cell_type": "code",
   "execution_count": 44,
   "id": "df6c0c83",
   "metadata": {
    "execution": {
     "iopub.execute_input": "2023-05-03T03:21:33.935069Z",
     "iopub.status.busy": "2023-05-03T03:21:33.934228Z",
     "iopub.status.idle": "2023-05-03T03:21:33.951686Z",
     "shell.execute_reply": "2023-05-03T03:21:33.950097Z"
    },
    "papermill": {
     "duration": 0.05593,
     "end_time": "2023-05-03T03:21:33.954332",
     "exception": false,
     "start_time": "2023-05-03T03:21:33.898402",
     "status": "completed"
    },
    "tags": []
   },
   "outputs": [
    {
     "name": "stdout",
     "output_type": "stream",
     "text": [
      "Memory usage of dataframe is 0.18 MB\n",
      "Memory usage became:  0.20650863647460938  MB\n"
     ]
    }
   ],
   "source": [
    "tdcsfog_test = reduce_memory_usage(tdcsfog_test)"
   ]
  },
  {
   "cell_type": "code",
   "execution_count": 45,
   "id": "76fc82ec",
   "metadata": {
    "execution": {
     "iopub.execute_input": "2023-05-03T03:21:34.023339Z",
     "iopub.status.busy": "2023-05-03T03:21:34.021659Z",
     "iopub.status.idle": "2023-05-03T03:21:34.586105Z",
     "shell.execute_reply": "2023-05-03T03:21:34.584552Z"
    },
    "papermill": {
     "duration": 0.602419,
     "end_time": "2023-05-03T03:21:34.589276",
     "exception": false,
     "start_time": "2023-05-03T03:21:33.986857",
     "status": "completed"
    },
    "tags": []
   },
   "outputs": [
    {
     "data": {
      "text/html": [
       "<div>\n",
       "<style scoped>\n",
       "    .dataframe tbody tr th:only-of-type {\n",
       "        vertical-align: middle;\n",
       "    }\n",
       "\n",
       "    .dataframe tbody tr th {\n",
       "        vertical-align: top;\n",
       "    }\n",
       "\n",
       "    .dataframe thead th {\n",
       "        text-align: right;\n",
       "    }\n",
       "</style>\n",
       "<table border=\"1\" class=\"dataframe\">\n",
       "  <thead>\n",
       "    <tr style=\"text-align: right;\">\n",
       "      <th></th>\n",
       "      <th>Time</th>\n",
       "      <th>AccV</th>\n",
       "      <th>AccML</th>\n",
       "      <th>AccAP</th>\n",
       "      <th>Id</th>\n",
       "    </tr>\n",
       "  </thead>\n",
       "  <tbody>\n",
       "    <tr>\n",
       "      <th>0</th>\n",
       "      <td>0.000000</td>\n",
       "      <td>-0.914652</td>\n",
       "      <td>-0.300851</td>\n",
       "      <td>0.298156</td>\n",
       "      <td>02ab235146_0</td>\n",
       "    </tr>\n",
       "    <tr>\n",
       "      <th>1</th>\n",
       "      <td>0.000004</td>\n",
       "      <td>-0.914367</td>\n",
       "      <td>-0.301572</td>\n",
       "      <td>0.298325</td>\n",
       "      <td>02ab235146_1</td>\n",
       "    </tr>\n",
       "    <tr>\n",
       "      <th>2</th>\n",
       "      <td>0.000007</td>\n",
       "      <td>-0.779540</td>\n",
       "      <td>-0.343197</td>\n",
       "      <td>0.275690</td>\n",
       "      <td>02ab235146_2</td>\n",
       "    </tr>\n",
       "    <tr>\n",
       "      <th>3</th>\n",
       "      <td>0.000011</td>\n",
       "      <td>-0.993162</td>\n",
       "      <td>-0.270281</td>\n",
       "      <td>0.315775</td>\n",
       "      <td>02ab235146_3</td>\n",
       "    </tr>\n",
       "    <tr>\n",
       "      <th>4</th>\n",
       "      <td>0.000014</td>\n",
       "      <td>-0.948767</td>\n",
       "      <td>-0.307849</td>\n",
       "      <td>0.297191</td>\n",
       "      <td>02ab235146_4</td>\n",
       "    </tr>\n",
       "    <tr>\n",
       "      <th>...</th>\n",
       "      <td>...</td>\n",
       "      <td>...</td>\n",
       "      <td>...</td>\n",
       "      <td>...</td>\n",
       "      <td>...</td>\n",
       "    </tr>\n",
       "    <tr>\n",
       "      <th>281683</th>\n",
       "      <td>0.999986</td>\n",
       "      <td>-0.899299</td>\n",
       "      <td>-0.232668</td>\n",
       "      <td>0.389147</td>\n",
       "      <td>02ab235146_281683</td>\n",
       "    </tr>\n",
       "    <tr>\n",
       "      <th>281684</th>\n",
       "      <td>0.999989</td>\n",
       "      <td>-0.901973</td>\n",
       "      <td>-0.233051</td>\n",
       "      <td>0.390114</td>\n",
       "      <td>02ab235146_281684</td>\n",
       "    </tr>\n",
       "    <tr>\n",
       "      <th>281685</th>\n",
       "      <td>0.999993</td>\n",
       "      <td>-0.901690</td>\n",
       "      <td>-0.231888</td>\n",
       "      <td>0.391896</td>\n",
       "      <td>02ab235146_281685</td>\n",
       "    </tr>\n",
       "    <tr>\n",
       "      <th>281686</th>\n",
       "      <td>0.999996</td>\n",
       "      <td>-0.899576</td>\n",
       "      <td>-0.232429</td>\n",
       "      <td>0.391106</td>\n",
       "      <td>02ab235146_281686</td>\n",
       "    </tr>\n",
       "    <tr>\n",
       "      <th>281687</th>\n",
       "      <td>1.000000</td>\n",
       "      <td>-0.900289</td>\n",
       "      <td>-0.232363</td>\n",
       "      <td>0.390735</td>\n",
       "      <td>02ab235146_281687</td>\n",
       "    </tr>\n",
       "  </tbody>\n",
       "</table>\n",
       "<p>281688 rows × 5 columns</p>\n",
       "</div>"
      ],
      "text/plain": [
       "            Time      AccV     AccML     AccAP                 Id\n",
       "0       0.000000 -0.914652 -0.300851  0.298156       02ab235146_0\n",
       "1       0.000004 -0.914367 -0.301572  0.298325       02ab235146_1\n",
       "2       0.000007 -0.779540 -0.343197  0.275690       02ab235146_2\n",
       "3       0.000011 -0.993162 -0.270281  0.315775       02ab235146_3\n",
       "4       0.000014 -0.948767 -0.307849  0.297191       02ab235146_4\n",
       "...          ...       ...       ...       ...                ...\n",
       "281683  0.999986 -0.899299 -0.232668  0.389147  02ab235146_281683\n",
       "281684  0.999989 -0.901973 -0.233051  0.390114  02ab235146_281684\n",
       "281685  0.999993 -0.901690 -0.231888  0.391896  02ab235146_281685\n",
       "281686  0.999996 -0.899576 -0.232429  0.391106  02ab235146_281686\n",
       "281687  1.000000 -0.900289 -0.232363  0.390735  02ab235146_281687\n",
       "\n",
       "[281688 rows x 5 columns]"
      ]
     },
     "execution_count": 45,
     "metadata": {},
     "output_type": "execute_result"
    }
   ],
   "source": [
    "# Set the directory path to the folder containing the CSV files.\n",
    "defog_test_path = '/kaggle/input/tlvmc-parkinsons-freezing-gait-prediction/test/defog'\n",
    "\n",
    "# Initialize an empty list to store the dataframes.\n",
    "defog_test_list = []\n",
    "\n",
    "# Loop through each file in the directory and read it into a dataframe.\n",
    "for file_name in os.listdir(defog_test_path):\n",
    "    if file_name.endswith('.csv'):\n",
    "        file_path = os.path.join(defog_test_path, file_name)\n",
    "        file = pd.read_csv(file_path)\n",
    "        file['Id'] = file_name[:-4] + '_' + file['Time'].apply(str)\n",
    "        file.Time = file.Time / (len(file) - 1)\n",
    "        defog_test_list.append(file)\n",
    "\n",
    "# Concatenate the dataframes vertically using pd.concat().\n",
    "defog_test = pd.concat(defog_test_list, axis = 0)\n",
    "\n",
    "# Show the concatenated dataframe.\n",
    "defog_test"
   ]
  },
  {
   "cell_type": "code",
   "execution_count": 46,
   "id": "d665659f",
   "metadata": {
    "execution": {
     "iopub.execute_input": "2023-05-03T03:21:34.657812Z",
     "iopub.status.busy": "2023-05-03T03:21:34.657189Z",
     "iopub.status.idle": "2023-05-03T03:21:35.069814Z",
     "shell.execute_reply": "2023-05-03T03:21:35.067710Z"
    },
    "papermill": {
     "duration": 0.450742,
     "end_time": "2023-05-03T03:21:35.073012",
     "exception": false,
     "start_time": "2023-05-03T03:21:34.622270",
     "status": "completed"
    },
    "tags": []
   },
   "outputs": [
    {
     "name": "stdout",
     "output_type": "stream",
     "text": [
      "Memory usage of dataframe is 10.75 MB\n",
      "Memory usage became:  13.435432434082031  MB\n"
     ]
    }
   ],
   "source": [
    "defog_test = reduce_memory_usage(defog_test)"
   ]
  },
  {
   "cell_type": "code",
   "execution_count": 47,
   "id": "e06f9b4c",
   "metadata": {
    "execution": {
     "iopub.execute_input": "2023-05-03T03:21:35.145321Z",
     "iopub.status.busy": "2023-05-03T03:21:35.144525Z",
     "iopub.status.idle": "2023-05-03T03:21:35.305097Z",
     "shell.execute_reply": "2023-05-03T03:21:35.303748Z"
    },
    "papermill": {
     "duration": 0.201613,
     "end_time": "2023-05-03T03:21:35.308538",
     "exception": false,
     "start_time": "2023-05-03T03:21:35.106925",
     "status": "completed"
    },
    "tags": []
   },
   "outputs": [
    {
     "data": {
      "text/html": [
       "<div>\n",
       "<style scoped>\n",
       "    .dataframe tbody tr th:only-of-type {\n",
       "        vertical-align: middle;\n",
       "    }\n",
       "\n",
       "    .dataframe tbody tr th {\n",
       "        vertical-align: top;\n",
       "    }\n",
       "\n",
       "    .dataframe thead th {\n",
       "        text-align: right;\n",
       "    }\n",
       "</style>\n",
       "<table border=\"1\" class=\"dataframe\">\n",
       "  <thead>\n",
       "    <tr style=\"text-align: right;\">\n",
       "      <th></th>\n",
       "      <th>Time</th>\n",
       "      <th>AccV</th>\n",
       "      <th>AccML</th>\n",
       "      <th>AccAP</th>\n",
       "      <th>Id</th>\n",
       "    </tr>\n",
       "  </thead>\n",
       "  <tbody>\n",
       "    <tr>\n",
       "      <th>0</th>\n",
       "      <td>0.000000</td>\n",
       "      <td>-9.531250</td>\n",
       "      <td>0.566406</td>\n",
       "      <td>-1.413086</td>\n",
       "      <td>003f117e14_0</td>\n",
       "    </tr>\n",
       "    <tr>\n",
       "      <th>1</th>\n",
       "      <td>0.000214</td>\n",
       "      <td>-9.539062</td>\n",
       "      <td>0.563965</td>\n",
       "      <td>-1.440430</td>\n",
       "      <td>003f117e14_1</td>\n",
       "    </tr>\n",
       "    <tr>\n",
       "      <th>2</th>\n",
       "      <td>0.000427</td>\n",
       "      <td>-9.531250</td>\n",
       "      <td>0.561523</td>\n",
       "      <td>-1.429688</td>\n",
       "      <td>003f117e14_2</td>\n",
       "    </tr>\n",
       "    <tr>\n",
       "      <th>3</th>\n",
       "      <td>0.000641</td>\n",
       "      <td>-9.531250</td>\n",
       "      <td>0.564453</td>\n",
       "      <td>-1.415039</td>\n",
       "      <td>003f117e14_3</td>\n",
       "    </tr>\n",
       "    <tr>\n",
       "      <th>4</th>\n",
       "      <td>0.000854</td>\n",
       "      <td>-9.539062</td>\n",
       "      <td>0.562012</td>\n",
       "      <td>-1.429688</td>\n",
       "      <td>003f117e14_4</td>\n",
       "    </tr>\n",
       "    <tr>\n",
       "      <th>...</th>\n",
       "      <td>...</td>\n",
       "      <td>...</td>\n",
       "      <td>...</td>\n",
       "      <td>...</td>\n",
       "      <td>...</td>\n",
       "    </tr>\n",
       "    <tr>\n",
       "      <th>286365</th>\n",
       "      <td>1.000000</td>\n",
       "      <td>-0.899414</td>\n",
       "      <td>-0.232666</td>\n",
       "      <td>0.389160</td>\n",
       "      <td>02ab235146_281683</td>\n",
       "    </tr>\n",
       "    <tr>\n",
       "      <th>286366</th>\n",
       "      <td>1.000000</td>\n",
       "      <td>-0.901855</td>\n",
       "      <td>-0.233032</td>\n",
       "      <td>0.390137</td>\n",
       "      <td>02ab235146_281684</td>\n",
       "    </tr>\n",
       "    <tr>\n",
       "      <th>286367</th>\n",
       "      <td>1.000000</td>\n",
       "      <td>-0.901855</td>\n",
       "      <td>-0.231934</td>\n",
       "      <td>0.391846</td>\n",
       "      <td>02ab235146_281685</td>\n",
       "    </tr>\n",
       "    <tr>\n",
       "      <th>286368</th>\n",
       "      <td>1.000000</td>\n",
       "      <td>-0.899414</td>\n",
       "      <td>-0.232422</td>\n",
       "      <td>0.391113</td>\n",
       "      <td>02ab235146_281686</td>\n",
       "    </tr>\n",
       "    <tr>\n",
       "      <th>286369</th>\n",
       "      <td>1.000000</td>\n",
       "      <td>-0.900391</td>\n",
       "      <td>-0.232422</td>\n",
       "      <td>0.390625</td>\n",
       "      <td>02ab235146_281687</td>\n",
       "    </tr>\n",
       "  </tbody>\n",
       "</table>\n",
       "<p>286370 rows × 5 columns</p>\n",
       "</div>"
      ],
      "text/plain": [
       "            Time      AccV     AccML     AccAP                 Id\n",
       "0       0.000000 -9.531250  0.566406 -1.413086       003f117e14_0\n",
       "1       0.000214 -9.539062  0.563965 -1.440430       003f117e14_1\n",
       "2       0.000427 -9.531250  0.561523 -1.429688       003f117e14_2\n",
       "3       0.000641 -9.531250  0.564453 -1.415039       003f117e14_3\n",
       "4       0.000854 -9.539062  0.562012 -1.429688       003f117e14_4\n",
       "...          ...       ...       ...       ...                ...\n",
       "286365  1.000000 -0.899414 -0.232666  0.389160  02ab235146_281683\n",
       "286366  1.000000 -0.901855 -0.233032  0.390137  02ab235146_281684\n",
       "286367  1.000000 -0.901855 -0.231934  0.391846  02ab235146_281685\n",
       "286368  1.000000 -0.899414 -0.232422  0.391113  02ab235146_281686\n",
       "286369  1.000000 -0.900391 -0.232422  0.390625  02ab235146_281687\n",
       "\n",
       "[286370 rows x 5 columns]"
      ]
     },
     "execution_count": 47,
     "metadata": {},
     "output_type": "execute_result"
    }
   ],
   "source": [
    "test = pd.concat([tdcsfog_test, defog_test], axis = 0).reset_index(drop = True)\n",
    "test"
   ]
  },
  {
   "cell_type": "markdown",
   "id": "78cab888",
   "metadata": {
    "papermill": {
     "duration": 0.033653,
     "end_time": "2023-05-03T03:21:35.376460",
     "exception": false,
     "start_time": "2023-05-03T03:21:35.342807",
     "status": "completed"
    },
    "tags": []
   },
   "source": [
    "# Inference"
   ]
  },
  {
   "cell_type": "code",
   "execution_count": 48,
   "id": "1cb4be5a",
   "metadata": {
    "execution": {
     "iopub.execute_input": "2023-05-03T03:21:35.446544Z",
     "iopub.status.busy": "2023-05-03T03:21:35.446117Z",
     "iopub.status.idle": "2023-05-03T03:21:35.612881Z",
     "shell.execute_reply": "2023-05-03T03:21:35.611038Z"
    },
    "papermill": {
     "duration": 0.208078,
     "end_time": "2023-05-03T03:21:35.618421",
     "exception": false,
     "start_time": "2023-05-03T03:21:35.410343",
     "status": "completed"
    },
    "tags": []
   },
   "outputs": [
    {
     "data": {
      "text/html": [
       "<div>\n",
       "<style scoped>\n",
       "    .dataframe tbody tr th:only-of-type {\n",
       "        vertical-align: middle;\n",
       "    }\n",
       "\n",
       "    .dataframe tbody tr th {\n",
       "        vertical-align: top;\n",
       "    }\n",
       "\n",
       "    .dataframe thead th {\n",
       "        text-align: right;\n",
       "    }\n",
       "</style>\n",
       "<table border=\"1\" class=\"dataframe\">\n",
       "  <thead>\n",
       "    <tr style=\"text-align: right;\">\n",
       "      <th></th>\n",
       "      <th>Time</th>\n",
       "      <th>AccV</th>\n",
       "      <th>AccML</th>\n",
       "      <th>AccAP</th>\n",
       "      <th>Id</th>\n",
       "      <th>StartHesitation</th>\n",
       "      <th>Turn</th>\n",
       "      <th>Walking</th>\n",
       "    </tr>\n",
       "  </thead>\n",
       "  <tbody>\n",
       "    <tr>\n",
       "      <th>0</th>\n",
       "      <td>0.000000</td>\n",
       "      <td>-9.531250</td>\n",
       "      <td>0.566406</td>\n",
       "      <td>-1.413086</td>\n",
       "      <td>003f117e14_0</td>\n",
       "      <td>1</td>\n",
       "      <td>0</td>\n",
       "      <td>0</td>\n",
       "    </tr>\n",
       "    <tr>\n",
       "      <th>1</th>\n",
       "      <td>0.000214</td>\n",
       "      <td>-9.539062</td>\n",
       "      <td>0.563965</td>\n",
       "      <td>-1.440430</td>\n",
       "      <td>003f117e14_1</td>\n",
       "      <td>1</td>\n",
       "      <td>0</td>\n",
       "      <td>0</td>\n",
       "    </tr>\n",
       "    <tr>\n",
       "      <th>2</th>\n",
       "      <td>0.000427</td>\n",
       "      <td>-9.531250</td>\n",
       "      <td>0.561523</td>\n",
       "      <td>-1.429688</td>\n",
       "      <td>003f117e14_2</td>\n",
       "      <td>1</td>\n",
       "      <td>0</td>\n",
       "      <td>0</td>\n",
       "    </tr>\n",
       "    <tr>\n",
       "      <th>3</th>\n",
       "      <td>0.000641</td>\n",
       "      <td>-9.531250</td>\n",
       "      <td>0.564453</td>\n",
       "      <td>-1.415039</td>\n",
       "      <td>003f117e14_3</td>\n",
       "      <td>1</td>\n",
       "      <td>0</td>\n",
       "      <td>0</td>\n",
       "    </tr>\n",
       "    <tr>\n",
       "      <th>4</th>\n",
       "      <td>0.000854</td>\n",
       "      <td>-9.539062</td>\n",
       "      <td>0.562012</td>\n",
       "      <td>-1.429688</td>\n",
       "      <td>003f117e14_4</td>\n",
       "      <td>1</td>\n",
       "      <td>0</td>\n",
       "      <td>0</td>\n",
       "    </tr>\n",
       "    <tr>\n",
       "      <th>...</th>\n",
       "      <td>...</td>\n",
       "      <td>...</td>\n",
       "      <td>...</td>\n",
       "      <td>...</td>\n",
       "      <td>...</td>\n",
       "      <td>...</td>\n",
       "      <td>...</td>\n",
       "      <td>...</td>\n",
       "    </tr>\n",
       "    <tr>\n",
       "      <th>286365</th>\n",
       "      <td>1.000000</td>\n",
       "      <td>-0.899414</td>\n",
       "      <td>-0.232666</td>\n",
       "      <td>0.389160</td>\n",
       "      <td>02ab235146_281683</td>\n",
       "      <td>0</td>\n",
       "      <td>1</td>\n",
       "      <td>1</td>\n",
       "    </tr>\n",
       "    <tr>\n",
       "      <th>286366</th>\n",
       "      <td>1.000000</td>\n",
       "      <td>-0.901855</td>\n",
       "      <td>-0.233032</td>\n",
       "      <td>0.390137</td>\n",
       "      <td>02ab235146_281684</td>\n",
       "      <td>0</td>\n",
       "      <td>1</td>\n",
       "      <td>1</td>\n",
       "    </tr>\n",
       "    <tr>\n",
       "      <th>286367</th>\n",
       "      <td>1.000000</td>\n",
       "      <td>-0.901855</td>\n",
       "      <td>-0.231934</td>\n",
       "      <td>0.391846</td>\n",
       "      <td>02ab235146_281685</td>\n",
       "      <td>0</td>\n",
       "      <td>1</td>\n",
       "      <td>1</td>\n",
       "    </tr>\n",
       "    <tr>\n",
       "      <th>286368</th>\n",
       "      <td>1.000000</td>\n",
       "      <td>-0.899414</td>\n",
       "      <td>-0.232422</td>\n",
       "      <td>0.391113</td>\n",
       "      <td>02ab235146_281686</td>\n",
       "      <td>0</td>\n",
       "      <td>1</td>\n",
       "      <td>1</td>\n",
       "    </tr>\n",
       "    <tr>\n",
       "      <th>286369</th>\n",
       "      <td>1.000000</td>\n",
       "      <td>-0.900391</td>\n",
       "      <td>-0.232422</td>\n",
       "      <td>0.390625</td>\n",
       "      <td>02ab235146_281687</td>\n",
       "      <td>0</td>\n",
       "      <td>1</td>\n",
       "      <td>1</td>\n",
       "    </tr>\n",
       "  </tbody>\n",
       "</table>\n",
       "<p>286370 rows × 8 columns</p>\n",
       "</div>"
      ],
      "text/plain": [
       "            Time      AccV     AccML     AccAP                 Id  \\\n",
       "0       0.000000 -9.531250  0.566406 -1.413086       003f117e14_0   \n",
       "1       0.000214 -9.539062  0.563965 -1.440430       003f117e14_1   \n",
       "2       0.000427 -9.531250  0.561523 -1.429688       003f117e14_2   \n",
       "3       0.000641 -9.531250  0.564453 -1.415039       003f117e14_3   \n",
       "4       0.000854 -9.539062  0.562012 -1.429688       003f117e14_4   \n",
       "...          ...       ...       ...       ...                ...   \n",
       "286365  1.000000 -0.899414 -0.232666  0.389160  02ab235146_281683   \n",
       "286366  1.000000 -0.901855 -0.233032  0.390137  02ab235146_281684   \n",
       "286367  1.000000 -0.901855 -0.231934  0.391846  02ab235146_281685   \n",
       "286368  1.000000 -0.899414 -0.232422  0.391113  02ab235146_281686   \n",
       "286369  1.000000 -0.900391 -0.232422  0.390625  02ab235146_281687   \n",
       "\n",
       "        StartHesitation  Turn  Walking  \n",
       "0                     1     0        0  \n",
       "1                     1     0        0  \n",
       "2                     1     0        0  \n",
       "3                     1     0        0  \n",
       "4                     1     0        0  \n",
       "...                 ...   ...      ...  \n",
       "286365                0     1        1  \n",
       "286366                0     1        1  \n",
       "286367                0     1        1  \n",
       "286368                0     1        1  \n",
       "286369                0     1        1  \n",
       "\n",
       "[286370 rows x 8 columns]"
      ]
     },
     "execution_count": 48,
     "metadata": {},
     "output_type": "execute_result"
    }
   ],
   "source": [
    "# Separate the dataset for the independent variables.\n",
    "test_X = test.iloc[:, 0:4]\n",
    "\n",
    "# Standardize the independent variables by a new scaler.\n",
    "scaler = StandardScaler()\n",
    "scaler.fit(test_X)\n",
    "test_X = scaler.transform(test_X)\n",
    "\n",
    "# Get the predictions for the three models on the test data.\n",
    "pred_y1 = model1.predict(test_X)\n",
    "pred_y2 = model2.predict(test_X)\n",
    "pred_y3 = model3.predict(test_X)\n",
    "\n",
    "test['StartHesitation'] = pred_y1 # target variable for StartHesitation\n",
    "test['Turn'] = pred_y2 # target variable for Turn\n",
    "test['Walking'] = pred_y3 # target variable for Walking\n",
    "\n",
    "test"
   ]
  },
  {
   "cell_type": "markdown",
   "id": "243c2de5",
   "metadata": {
    "papermill": {
     "duration": 0.034728,
     "end_time": "2023-05-03T03:21:35.735065",
     "exception": false,
     "start_time": "2023-05-03T03:21:35.700337",
     "status": "completed"
    },
    "tags": []
   },
   "source": [
    "# Submission"
   ]
  },
  {
   "cell_type": "code",
   "execution_count": 49,
   "id": "11cfa8fb",
   "metadata": {
    "execution": {
     "iopub.execute_input": "2023-05-03T03:21:35.807448Z",
     "iopub.status.busy": "2023-05-03T03:21:35.806221Z",
     "iopub.status.idle": "2023-05-03T03:21:35.854644Z",
     "shell.execute_reply": "2023-05-03T03:21:35.853282Z"
    },
    "papermill": {
     "duration": 0.088712,
     "end_time": "2023-05-03T03:21:35.858102",
     "exception": false,
     "start_time": "2023-05-03T03:21:35.769390",
     "status": "completed"
    },
    "tags": []
   },
   "outputs": [
    {
     "data": {
      "text/html": [
       "<div>\n",
       "<style scoped>\n",
       "    .dataframe tbody tr th:only-of-type {\n",
       "        vertical-align: middle;\n",
       "    }\n",
       "\n",
       "    .dataframe tbody tr th {\n",
       "        vertical-align: top;\n",
       "    }\n",
       "\n",
       "    .dataframe thead th {\n",
       "        text-align: right;\n",
       "    }\n",
       "</style>\n",
       "<table border=\"1\" class=\"dataframe\">\n",
       "  <thead>\n",
       "    <tr style=\"text-align: right;\">\n",
       "      <th></th>\n",
       "      <th>Id</th>\n",
       "      <th>StartHesitation</th>\n",
       "      <th>Turn</th>\n",
       "      <th>Walking</th>\n",
       "    </tr>\n",
       "  </thead>\n",
       "  <tbody>\n",
       "    <tr>\n",
       "      <th>0</th>\n",
       "      <td>003f117e14_0</td>\n",
       "      <td>1</td>\n",
       "      <td>0</td>\n",
       "      <td>0</td>\n",
       "    </tr>\n",
       "    <tr>\n",
       "      <th>1</th>\n",
       "      <td>003f117e14_1</td>\n",
       "      <td>1</td>\n",
       "      <td>0</td>\n",
       "      <td>0</td>\n",
       "    </tr>\n",
       "    <tr>\n",
       "      <th>2</th>\n",
       "      <td>003f117e14_2</td>\n",
       "      <td>1</td>\n",
       "      <td>0</td>\n",
       "      <td>0</td>\n",
       "    </tr>\n",
       "    <tr>\n",
       "      <th>3</th>\n",
       "      <td>003f117e14_3</td>\n",
       "      <td>1</td>\n",
       "      <td>0</td>\n",
       "      <td>0</td>\n",
       "    </tr>\n",
       "    <tr>\n",
       "      <th>4</th>\n",
       "      <td>003f117e14_4</td>\n",
       "      <td>1</td>\n",
       "      <td>0</td>\n",
       "      <td>0</td>\n",
       "    </tr>\n",
       "    <tr>\n",
       "      <th>...</th>\n",
       "      <td>...</td>\n",
       "      <td>...</td>\n",
       "      <td>...</td>\n",
       "      <td>...</td>\n",
       "    </tr>\n",
       "    <tr>\n",
       "      <th>286365</th>\n",
       "      <td>02ab235146_281683</td>\n",
       "      <td>0</td>\n",
       "      <td>1</td>\n",
       "      <td>1</td>\n",
       "    </tr>\n",
       "    <tr>\n",
       "      <th>286366</th>\n",
       "      <td>02ab235146_281684</td>\n",
       "      <td>0</td>\n",
       "      <td>1</td>\n",
       "      <td>1</td>\n",
       "    </tr>\n",
       "    <tr>\n",
       "      <th>286367</th>\n",
       "      <td>02ab235146_281685</td>\n",
       "      <td>0</td>\n",
       "      <td>1</td>\n",
       "      <td>1</td>\n",
       "    </tr>\n",
       "    <tr>\n",
       "      <th>286368</th>\n",
       "      <td>02ab235146_281686</td>\n",
       "      <td>0</td>\n",
       "      <td>1</td>\n",
       "      <td>1</td>\n",
       "    </tr>\n",
       "    <tr>\n",
       "      <th>286369</th>\n",
       "      <td>02ab235146_281687</td>\n",
       "      <td>0</td>\n",
       "      <td>1</td>\n",
       "      <td>1</td>\n",
       "    </tr>\n",
       "  </tbody>\n",
       "</table>\n",
       "<p>286370 rows × 4 columns</p>\n",
       "</div>"
      ],
      "text/plain": [
       "                       Id  StartHesitation  Turn  Walking\n",
       "0            003f117e14_0                1     0        0\n",
       "1            003f117e14_1                1     0        0\n",
       "2            003f117e14_2                1     0        0\n",
       "3            003f117e14_3                1     0        0\n",
       "4            003f117e14_4                1     0        0\n",
       "...                   ...              ...   ...      ...\n",
       "286365  02ab235146_281683                0     1        1\n",
       "286366  02ab235146_281684                0     1        1\n",
       "286367  02ab235146_281685                0     1        1\n",
       "286368  02ab235146_281686                0     1        1\n",
       "286369  02ab235146_281687                0     1        1\n",
       "\n",
       "[286370 rows x 4 columns]"
      ]
     },
     "execution_count": 49,
     "metadata": {},
     "output_type": "execute_result"
    }
   ],
   "source": [
    "submission = test.iloc[:, 4:].fillna(0.0)\n",
    "submission"
   ]
  },
  {
   "cell_type": "code",
   "execution_count": 50,
   "id": "62ccf97a",
   "metadata": {
    "execution": {
     "iopub.execute_input": "2023-05-03T03:21:35.929383Z",
     "iopub.status.busy": "2023-05-03T03:21:35.928974Z",
     "iopub.status.idle": "2023-05-03T03:21:36.373539Z",
     "shell.execute_reply": "2023-05-03T03:21:36.371849Z"
    },
    "papermill": {
     "duration": 0.483855,
     "end_time": "2023-05-03T03:21:36.376732",
     "exception": false,
     "start_time": "2023-05-03T03:21:35.892877",
     "status": "completed"
    },
    "tags": []
   },
   "outputs": [],
   "source": [
    "submission.to_csv(\"submission.csv\", index = False)"
   ]
  },
  {
   "cell_type": "markdown",
   "id": "765a0d94",
   "metadata": {
    "papermill": {
     "duration": 0.034151,
     "end_time": "2023-05-03T03:21:36.444666",
     "exception": false,
     "start_time": "2023-05-03T03:21:36.410515",
     "status": "completed"
    },
    "tags": []
   },
   "source": [
    "# Save, Load, and Use Model\n",
    "\n",
    "To save the trained Logistic Regression model, you can use the joblib library from the sklearn.externals module. This will save the model to a file in the current working directory. **To load the saved model later**, we can use the joblib.load() function."
   ]
  },
  {
   "cell_type": "code",
   "execution_count": 51,
   "id": "3e091cc0",
   "metadata": {
    "execution": {
     "iopub.execute_input": "2023-05-03T03:21:36.516825Z",
     "iopub.status.busy": "2023-05-03T03:21:36.515752Z",
     "iopub.status.idle": "2023-05-03T03:21:36.605869Z",
     "shell.execute_reply": "2023-05-03T03:21:36.603905Z"
    },
    "papermill": {
     "duration": 0.131797,
     "end_time": "2023-05-03T03:21:36.610963",
     "exception": false,
     "start_time": "2023-05-03T03:21:36.479166",
     "status": "completed"
    },
    "tags": []
   },
   "outputs": [],
   "source": [
    "import joblib\n",
    "\n",
    "# Save the model to disk.\n",
    "joblib.dump(model1, 'model1.joblib')\n",
    "joblib.dump(model2, 'model2.joblib')\n",
    "joblib.dump(model3, 'model3.joblib')\n",
    "\n",
    "# Load the saved models from disk.\n",
    "model1_loaded = joblib.load('model1.joblib')\n",
    "model2_loaded = joblib.load('model2.joblib')\n",
    "model3_loaded = joblib.load('model3.joblib')\n",
    "\n",
    "# Use the loaded models to make predictions on test data.\n",
    "y1_pred_loaded = model1_loaded.predict(test_X)\n",
    "y2_pred_loaded = model2_loaded.predict(test_X)\n",
    "y3_pred_loaded = model3_loaded.predict(test_X)"
   ]
  },
  {
   "cell_type": "markdown",
   "id": "6ba9e82c",
   "metadata": {
    "papermill": {
     "duration": 0.046307,
     "end_time": "2023-05-03T03:21:36.747360",
     "exception": false,
     "start_time": "2023-05-03T03:21:36.701053",
     "status": "completed"
    },
    "tags": []
   },
   "source": [
    "# Conclusion\n",
    "\n",
    "It is possible that **more features or more advanced machine learning algorithms** could improve the accuracy of the models. Additionally, it may be useful to **investigate other factors** that contribute to the occurrence of freezing of gait events, such as cognitive or environmental factors."
   ]
  },
  {
   "cell_type": "markdown",
   "id": "3d2e0063",
   "metadata": {
    "papermill": {
     "duration": 0.03291,
     "end_time": "2023-05-03T03:21:36.815098",
     "exception": false,
     "start_time": "2023-05-03T03:21:36.782188",
     "status": "completed"
    },
    "tags": []
   },
   "source": [
    "I am a medical doctor working on **artificial intelligence (AI) for medicine**. At present AI is also widely used in the medical field. Particularly, AI performs in the healthcare sector following tasks: **image classification, object detection, semantic segmentation, GANs, text classification, etc**. **If you are interested in AI for medicine, please see my other notebooks.**"
   ]
  }
 ],
 "metadata": {
  "kernelspec": {
   "display_name": "Python 3",
   "language": "python",
   "name": "python3"
  },
  "language_info": {
   "codemirror_mode": {
    "name": "ipython",
    "version": 3
   },
   "file_extension": ".py",
   "mimetype": "text/x-python",
   "name": "python",
   "nbconvert_exporter": "python",
   "pygments_lexer": "ipython3",
   "version": "3.7.12"
  },
  "papermill": {
   "default_parameters": {},
   "duration": 369.345532,
   "end_time": "2023-05-03T03:21:38.983552",
   "environment_variables": {},
   "exception": null,
   "input_path": "__notebook__.ipynb",
   "output_path": "__notebook__.ipynb",
   "parameters": {},
   "start_time": "2023-05-03T03:15:29.638020",
   "version": "2.4.0"
  }
 },
 "nbformat": 4,
 "nbformat_minor": 5
}
